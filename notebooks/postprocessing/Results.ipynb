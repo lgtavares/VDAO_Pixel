{
 "cells": [
  {
   "cell_type": "code",
   "execution_count": 1,
   "metadata": {},
   "outputs": [],
   "source": [
    "import os\n",
    "import numpy as np\n",
    "import pandas as pd\n",
    "\n",
    "from src import RESULT_DIR\n",
    "from src.utils import MCC, DIS"
   ]
  },
  {
   "cell_type": "code",
   "execution_count": 2,
   "metadata": {},
   "outputs": [],
   "source": [
    "classifier = 'LightGBM' # RandomForest, LightGBM\n",
    "alignment = 'warp' # geometric, temporal, warp"
   ]
  },
  {
   "cell_type": "code",
   "execution_count": 3,
   "metadata": {},
   "outputs": [],
   "source": [
    "if classifier == 'LightGBM': \n",
    "        cols = ['fold', 'step', 'threshold', \n",
    "                'voting_depth', 'voting_width', 'opening',\n",
    "                'closing', 'order', 'count', 'tn', 'fp', 'fn', 'tp','time']\n",
    "        cc = ['fold', 'step', 'threshold', 'voting_depth', \n",
    "                'voting_width', 'opening', 'closing', 'count']\n",
    "        \n",
    "elif classifier == 'RandomForest': \n",
    "        cols = ['fold', 'step', 'threshold', 'voting_depth', \n",
    "                'voting_width', 'opening', 'closing', 'count',\n",
    "                'tn', 'fp', 'fn', 'tp','time']\n",
    "        cc = ['fold', 'step', 'threshold', 'voting_depth', \n",
    "                'voting_width', 'opening', 'closing', 'count']"
   ]
  },
  {
   "cell_type": "code",
   "execution_count": 4,
   "metadata": {},
   "outputs": [
    {
     "name": "stdout",
     "output_type": "stream",
     "text": [
      "Fold 1: 500 iterations - max it. = 428, max.MCC = 0.8819  [0.58  4 27  9 32 0.48]\n",
      "Fold 2: 500 iterations - max it. = 482, max.MCC = 0.8981  [0.60  4 27 11 22 0.46]\n",
      "Fold 3: 500 iterations - max it. = 137, max.MCC = 0.8742  [0.95  2 31  1 43 0.46]\n",
      "Fold 4: 500 iterations - max it. = 155, max.MCC = 0.8971  [0.86  2  9 10 12 0.44]\n",
      "Fold 5: 500 iterations - max it. = 250, max.MCC = 0.8936  [0.65  4 29 11 22 0.41]\n",
      "Fold 6: 500 iterations - max it. = 306, max.MCC = 0.9215  [0.63  4 27  9 28 0.40]\n",
      "Fold 7: 500 iterations - max it. = 387, max.MCC = 0.9038  [0.44  5 26  7 28 0.45]\n",
      "Fold 8: 500 iterations - max it. = 463, max.MCC = 0.9170  [0.91  1 12 15 23 0.39]\n",
      "Fold 9: 500 iterations - max it. = 290, max.MCC = 0.9403  [0.83  3 19  8 29 0.38]\n"
     ]
    }
   ],
   "source": [
    "res_dir = os.path.join(RESULT_DIR, classifier, alignment, 'postprocessing')\n",
    "res_df = {}\n",
    "res_mcc = []\n",
    "for fold in range(1, 10):\n",
    "    csv_dir = os.path.join(res_dir, \n",
    "                           'results_post_fold{0:02d}.csv'.format(fold))\n",
    "    dd = pd.read_csv(csv_dir, index_col=0)\n",
    "    dd = dd[cols]\n",
    "    dd.reset_index(drop=True, inplace=True)\n",
    "    dd = dd.groupby(cc).aggregate({\n",
    "                    'tn':np.sum,'fp':np.sum,'fn':np.sum,\n",
    "                    'tp':np.sum,'time':np.average}).reset_index()\n",
    "    dd['MCC'] = dd.apply(lambda x: MCC(x['tn'],x['fp'],x['fn'],x['tp']), \n",
    "                         axis=1)\n",
    "    dd_max = dd.loc[dd['MCC'] == dd['MCC'].max(), :]\n",
    "\n",
    "    str_print = 'Fold {0}: {1:>3} iterations '.format(fold, dd[cc[1]].max()+1)\n",
    "    str_print += '- max it. = {0:>3},'.format(dd_max[cc[1]].values[0])\n",
    "    str_print += ' max.MCC = {0:.4f}  ['.format(dd['MCC'].max())\n",
    "    str_print += '{0:.2f} '.format(dd_max['threshold'].values[0]/100)\n",
    "    str_print += '{0:>2} '.format(dd_max['opening'].values[0])\n",
    "    str_print += '{0:>2} '.format(dd_max['closing'].values[0])\n",
    "    str_print += '{0:>2} '.format(dd_max['voting_width'].values[0])\n",
    "    str_print += '{0:>2} '.format(dd_max['voting_depth'].values[0])\n",
    "    str_print += '{0:.2f}]'.format(dd_max['count'].values[0]/100)\n",
    "\n",
    "    print(str_print)\n",
    "\n"
   ]
  },
  {
   "cell_type": "code",
   "execution_count": 5,
   "metadata": {},
   "outputs": [
    {
     "name": "stdout",
     "output_type": "stream",
     "text": [
      "\\textbf{1} & 500 & 428 & 0.58 &  4 & 27 &  9 & 32 & 0.48 & 0.8819 \\\\\n",
      "\\textbf{2} & 500 & 482 & 0.60 &  4 & 27 & 11 & 22 & 0.46 & 0.8981 \\\\\n",
      "\\textbf{3} & 500 & 137 & 0.95 &  2 & 31 &  1 & 43 & 0.46 & 0.8742 \\\\\n",
      "\\textbf{4} & 500 & 155 & 0.86 &  2 &  9 & 10 & 12 & 0.44 & 0.8971 \\\\\n",
      "\\textbf{5} & 500 & 250 & 0.65 &  4 & 29 & 11 & 22 & 0.41 & 0.8936 \\\\\n",
      "\\textbf{6} & 500 & 306 & 0.63 &  4 & 27 &  9 & 28 & 0.40 & 0.9215 \\\\\n",
      "\\textbf{7} & 500 & 387 & 0.44 &  5 & 26 &  7 & 28 & 0.45 & 0.9038 \\\\\n",
      "\\textbf{8} & 500 & 463 & 0.91 &  1 & 12 & 15 & 23 & 0.39 & 0.9170 \\\\\n",
      "\\textbf{9} & 500 & 290 & 0.83 &  3 & 19 &  8 & 29 & 0.38 & 0.9403 \\\\\n"
     ]
    }
   ],
   "source": [
    "res_dir = os.path.join(RESULT_DIR, classifier, alignment, 'postprocessing')\n",
    "res_df = {}\n",
    "res_mcc = []\n",
    "for fold in range(1, 10):\n",
    "    csv_dir = os.path.join(res_dir, \n",
    "                           'results_post_fold{0:02d}.csv'.format(fold))\n",
    "    dd = pd.read_csv(csv_dir, index_col=0)\n",
    "    dd = dd[cols]\n",
    "    dd.reset_index(drop=True, inplace=True)\n",
    "    dd = dd.groupby(cc).aggregate({\n",
    "                    'tn':np.sum,'fp':np.sum,'fn':np.sum,\n",
    "                    'tp':np.sum,'time':np.average}).reset_index()\n",
    "    dd['MCC'] = dd.apply(lambda x: MCC(x['tn'],x['fp'],x['fn'],x['tp']), \n",
    "                         axis=1)\n",
    "    dd_max = dd.loc[dd['MCC'] == dd['MCC'].max(), :]\n",
    "\n",
    "    str_print = '\\\\textbf{{{0}}} & {1:>3} & '.format(fold, dd[cc[1]].max()+1)\n",
    "    str_print += '{0:>3} & '.format(dd_max[cc[1]].values[0])\n",
    "    str_print += '{0:.2f} & '.format(dd_max['threshold'].values[0]/100)\n",
    "    str_print += '{0:>2} & '.format(dd_max['opening'].values[0])\n",
    "    str_print += '{0:>2} & '.format(dd_max['closing'].values[0])\n",
    "    str_print += '{0:>2} & '.format(dd_max['voting_width'].values[0])\n",
    "    str_print += '{0:>2} & '.format(dd_max['voting_depth'].values[0])\n",
    "    str_print += '{0:.2f} & '.format(dd_max['count'].values[0]/100)\n",
    "    str_print += '{0:.4f} \\\\\\\\'.format(dd['MCC'].max())\n",
    "\n",
    "\n",
    "    print(str_print)\n"
   ]
  },
  {
   "cell_type": "code",
   "execution_count": 6,
   "metadata": {},
   "outputs": [
    {
     "name": "stdout",
     "output_type": "stream",
     "text": [
      "\\textbf{1} & 0.3252 & 0.2638 & 0.2377 & 0.2183 & 0.2033 & 0.1117 \\\\\n",
      "\\textbf{2} & 0.2485 & 0.1813 & 0.1915 & 0.1691 & 0.1533 & 0.0901 \\\\\n",
      "\\textbf{3} & 0.3491 & 0.2514 & 0.3135 & 0.2347 & 0.1933 & 0.0829 \\\\\n",
      "\\textbf{4} & 0.2138 & 0.1354 & 0.2157 & 0.1503 & 0.1079 & 0.1129 \\\\\n",
      "\\textbf{5} & 0.2911 & 0.2864 & 0.2656 & 0.2212 & 0.1881 & 0.0855 \\\\\n",
      "\\textbf{6} & 0.2274 & 0.1840 & 0.2004 & 0.1517 & 0.1668 & 0.0623 \\\\\n",
      "\\textbf{7} & 0.2438 & 0.1964 & 0.2766 & 0.1576 & 0.1670 & 0.0790 \\\\\n",
      "\\textbf{8} & 0.2039 & 0.1761 & 0.2628 & 0.1542 & 0.1380 & 0.0883 \\\\\n",
      "\\textbf{9} & 0.2394 & 0.1882 & 0.1336 & 0.1633 & 0.1466 & 0.0429 \\\\\n",
      "\\textbf{Mean $\\pm$ std.} & $0.2603 \\pm 0.0475$ & $0.2070 \\pm 0.0462$ & $0.2330 \\pm 0.0509$ & $0.1800 \\pm 0.0323$ & $0.1627 \\pm 0.0283$ & $0.0840 \\pm 0.0207$ \\\\ \n"
     ]
    }
   ],
   "source": [
    "# Comparisson\n",
    "\n",
    "metric = 'DIS'\n",
    "classifiers = ['RandomForest', 'LightGBM']\n",
    "alignments = ['temporal', 'geometric', 'warp']\n",
    "\n",
    "results = {k:np.zeros(6) for k in range(1,10)}\n",
    "stats = {k:np.zeros((2,6))  for k in range(1,10)}\n",
    "\n",
    "c = 0\n",
    "for classifier in classifiers:\n",
    "    for alignment in alignments:\n",
    "        if classifier == 'LightGBM': \n",
    "                cols = ['fold', 'step', 'threshold', \n",
    "                        'voting_depth', 'voting_width', 'opening',\n",
    "                        'closing', 'order', 'count', 'tn', 'fp', 'fn', 'tp','time']\n",
    "                cc = ['fold', 'step', 'threshold', 'voting_depth', \n",
    "                        'voting_width', 'opening', 'closing', 'count']\n",
    "                \n",
    "        elif classifier == 'RandomForest': \n",
    "                cols = ['fold', 'step', 'threshold', 'voting_depth', \n",
    "                        'voting_width', 'opening', 'closing', 'count',\n",
    "                        'tn', 'fp', 'fn', 'tp','time']\n",
    "                cc = ['fold', 'step', 'threshold', 'voting_depth', \n",
    "                        'voting_width', 'opening', 'closing', 'count']\n",
    "        res_dir = os.path.join(RESULT_DIR, classifier, alignment, 'postprocessing')\n",
    "        res_df = {}\n",
    "        res_mcc = []\n",
    "        for fold in range(1, 10):\n",
    "                csv_dir = os.path.join(res_dir, \n",
    "                                        'results_post_fold{0:02d}.csv'.format(fold))\n",
    "                dd = pd.read_csv(csv_dir, index_col=0)\n",
    "                dd = dd[cols]\n",
    "                dd.reset_index(drop=True, inplace=True)\n",
    "                dd = dd.groupby(cc).aggregate({\n",
    "                                'tn':np.sum,'fp':np.sum,'fn':np.sum,\n",
    "                                'tp':np.sum,'time':np.average}).reset_index()\n",
    "                dd['MCC'] = dd.apply(lambda x: MCC(x['tn'],x['fp'],x['fn'],x['tp']), \n",
    "                                        axis=1)\n",
    "                dd['DIS'] = dd.apply(lambda x: DIS(x['tn'],x['fp'],x['fn'],x['tp']), \n",
    "                                        axis=1)\n",
    "                dd_max = dd.loc[dd['MCC'] == dd['MCC'].max(), :]\n",
    "                \n",
    "                results[fold][c] = dd_max[metric].max()\n",
    "\n",
    "        c +=1 \n",
    "             \n",
    "mean = np.array([results[i] for i in range(1, 10)]).mean(axis=0)\n",
    "std = np.array([results[i] for i in range(1, 10)]).std(axis=0)\n",
    "\n",
    "\n",
    "for fold in range(1, 10):\n",
    "    res = results[fold]\n",
    "\n",
    "    str_print = '\\\\textbf{{{0}}} & '.format(fold)\n",
    "    str_print += '{0:.4f} & '.format(res[0])\n",
    "    str_print += '{0:.4f} & '.format(res[1])\n",
    "    str_print += '{0:.4f} & '.format(res[2])\n",
    "    str_print += '{0:.4f} & '.format(res[3])\n",
    "    str_print += '{0:.4f} & '.format(res[4])\n",
    "    str_print += '{0:.4f} \\\\\\\\'.format(res[5])\n",
    "\n",
    "    print(str_print)\n",
    "\n",
    "str_print = '\\\\textbf{Mean $\\\\pm$ std.} & '\n",
    "str_print += '${0:.4f} \\\\pm {1:.4f}$ & '.format(mean[0], std[0])\n",
    "str_print += '${0:.4f} \\\\pm {1:.4f}$ & '.format(mean[1], std[1])\n",
    "str_print += '${0:.4f} \\\\pm {1:.4f}$ & '.format(mean[2], std[2])\n",
    "str_print += '${0:.4f} \\\\pm {1:.4f}$ & '.format(mean[3], std[3])\n",
    "str_print += '${0:.4f} \\\\pm {1:.4f}$ & '.format(mean[4], std[4])\n",
    "str_print += '${0:.4f} \\\\pm {1:.4f}$ \\\\\\\\ '.format(mean[5], std[5])\n",
    "\n",
    "print(str_print)\n"
   ]
  },
  {
   "cell_type": "code",
   "execution_count": 31,
   "metadata": {},
   "outputs": [
    {
     "data": {
      "text/plain": [
       "array([0.8315408 , 0.79160451, 0.79191848, 0.87293647, 0.86033665,\n",
       "       0.9030461 ])"
      ]
     },
     "execution_count": 31,
     "metadata": {},
     "output_type": "execute_result"
    }
   ],
   "source": [
    "mean"
   ]
  }
 ],
 "metadata": {
  "kernelspec": {
   "display_name": "pixel_env",
   "language": "python",
   "name": "python3"
  },
  "language_info": {
   "codemirror_mode": {
    "name": "ipython",
    "version": 3
   },
   "file_extension": ".py",
   "mimetype": "text/x-python",
   "name": "python",
   "nbconvert_exporter": "python",
   "pygments_lexer": "ipython3",
   "version": "3.10.4"
  },
  "orig_nbformat": 4,
  "vscode": {
   "interpreter": {
    "hash": "3fe4b717e41534989dd514def504f4e45872ef3d1cf72d7948bd023446991b72"
   }
  }
 },
 "nbformat": 4,
 "nbformat_minor": 2
}
