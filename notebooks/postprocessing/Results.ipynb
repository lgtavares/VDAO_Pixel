{
 "cells": [
  {
   "cell_type": "code",
   "execution_count": 2,
   "metadata": {},
   "outputs": [],
   "source": [
    "import os\n",
    "import numpy as np\n",
    "import pandas as pd\n",
    "\n",
    "from src import RESULT_DIR\n",
    "from src.utils import MCC, DIS"
   ]
  },
  {
   "cell_type": "code",
   "execution_count": 3,
   "metadata": {},
   "outputs": [],
   "source": [
    "classifier = 'RandomForest' # RandomForest, LightGBM\n",
    "alignment = 'temporal' # geometric, temporal, warp"
   ]
  },
  {
   "cell_type": "code",
   "execution_count": 7,
   "metadata": {},
   "outputs": [],
   "source": [
    "if classifier == 'LightGBM': \n",
    "        cols = ['fold_num', 'trial', 'split_num', 'num_leaves', \n",
    "                'min_child_samples', 'threshold', 'num_trees', \n",
    "                'tn', 'fp', 'fn', 'tp','time']\n",
    "        cc = ['fold_num', 'trial', 'num_leaves', 'min_child_samples', \n",
    "              'threshold']\n",
    "        \n",
    "elif classifier == 'RandomForest': \n",
    "        cols = ['fold', 'step', 'threshold', 'voting_depth', \n",
    "                'voting_width', 'opening', 'closing', 'count',\n",
    "                'tn', 'fp', 'fn', 'tp','time']\n",
    "        cc = ['fold', 'step', 'threshold', 'voting_depth', \n",
    "                'voting_width', 'opening', 'closing', 'count']"
   ]
  },
  {
   "cell_type": "code",
   "execution_count": 16,
   "metadata": {},
   "outputs": [
    {
     "name": "stdout",
     "output_type": "stream",
     "text": [
      "Fold 1:  175 iterations - max it. = 163, max.MCC = 0.7598  [0.34  58  12  12  31  0.36]\n",
      "Fold 2:   35 iterations - max it. =  19, max.MCC = 0.6227  [0.34  46  59  15  57  0.27]\n",
      "Fold 3:   84 iterations - max it. =  81, max.MCC = 0.6519  [0.29  65  17  16  13  0.21]\n",
      "Fold 4:  158 iterations - max it. = 120, max.MCC = 0.7803  [0.44  69  13  8  36  0.34]\n",
      "Fold 5:  202 iterations - max it. = 192, max.MCC = 0.7264  [0.34  21  27  12  7  0.31]\n",
      "Fold 6:   35 iterations - max it. =  19, max.MCC = 0.6634  [0.34  46  59  15  57  0.27]\n",
      "Fold 7:  125 iterations - max it. = 110, max.MCC = 0.7664  [0.34  40  14  11  1  0.39]\n",
      "Fold 8:  160 iterations - max it. = 155, max.MCC = 0.8127  [0.27  49  12  14  11  0.34]\n",
      "Fold 9:   37 iterations - max it. =  19, max.MCC = 0.6430  [0.34  46  59  15  57  0.27]\n"
     ]
    },
    {
     "data": {
      "text/html": [
       "<div>\n",
       "<style scoped>\n",
       "    .dataframe tbody tr th:only-of-type {\n",
       "        vertical-align: middle;\n",
       "    }\n",
       "\n",
       "    .dataframe tbody tr th {\n",
       "        vertical-align: top;\n",
       "    }\n",
       "\n",
       "    .dataframe thead th {\n",
       "        text-align: right;\n",
       "    }\n",
       "</style>\n",
       "<table border=\"1\" class=\"dataframe\">\n",
       "  <thead>\n",
       "    <tr style=\"text-align: right;\">\n",
       "      <th></th>\n",
       "      <th>fold</th>\n",
       "      <th>step</th>\n",
       "      <th>threshold</th>\n",
       "      <th>voting_depth</th>\n",
       "      <th>voting_width</th>\n",
       "      <th>opening</th>\n",
       "      <th>closing</th>\n",
       "      <th>count</th>\n",
       "      <th>tn</th>\n",
       "      <th>fp</th>\n",
       "      <th>fn</th>\n",
       "      <th>tp</th>\n",
       "      <th>time</th>\n",
       "      <th>MCC</th>\n",
       "    </tr>\n",
       "  </thead>\n",
       "  <tbody>\n",
       "    <tr>\n",
       "      <th>19</th>\n",
       "      <td>9</td>\n",
       "      <td>19</td>\n",
       "      <td>34</td>\n",
       "      <td>46</td>\n",
       "      <td>59</td>\n",
       "      <td>15</td>\n",
       "      <td>57</td>\n",
       "      <td>27</td>\n",
       "      <td>401492767.0</td>\n",
       "      <td>1290440.0</td>\n",
       "      <td>6437206.0</td>\n",
       "      <td>6616034.0</td>\n",
       "      <td>36.746025</td>\n",
       "      <td>0.643037</td>\n",
       "    </tr>\n",
       "  </tbody>\n",
       "</table>\n",
       "</div>"
      ],
      "text/plain": [
       "    fold  step  threshold  voting_depth  voting_width  opening  closing  \\\n",
       "19     9    19         34            46            59       15       57   \n",
       "\n",
       "    count           tn         fp         fn         tp       time       MCC  \n",
       "19     27  401492767.0  1290440.0  6437206.0  6616034.0  36.746025  0.643037  "
      ]
     },
     "execution_count": 16,
     "metadata": {},
     "output_type": "execute_result"
    }
   ],
   "source": [
    "res_dir = os.path.join(RESULT_DIR, classifier, alignment, 'postprocessing')\n",
    "res_df = {}\n",
    "res_mcc = []\n",
    "for fold in range(1, 10):\n",
    "    csv_dir = os.path.join(res_dir, 'results_post_fold{0:02d}.csv'.format(fold))\n",
    "    dd = pd.read_csv(csv_dir, index_col=0)\n",
    "    dd = dd[cols]\n",
    "    dd.reset_index(drop=True, inplace=True)\n",
    "    dd = dd.groupby(cc).aggregate({\n",
    "                    'tn':np.sum,'fp':np.sum,'fn':np.sum,\n",
    "                    'tp':np.sum,'time':np.average}).reset_index()\n",
    "    dd['MCC'] = dd.apply(lambda x: MCC(x['tn'],x['fp'],x['fn'],x['tp']), axis=1)\n",
    "    dd_max = dd.loc[dd['MCC'] == dd['MCC'].max(), :]\n",
    "    print('Fold {0}:  {1:>3} iterations - max it. = {2:>3}, max.MCC = {3:.4f}  [{4:0.2f}  {5}  {6}  {7}  {8}  {9:0.2f}]'.format(fold,\n",
    "                                                                                                                            dd[cc[1]].max()+1,\n",
    "                                                                                                                            dd_max[cc[1]].values[0],\n",
    "                                                                                                                            dd['MCC'].max(),\n",
    "                                                                                                                            dd_max['threshold'].values[0]/100,\n",
    "                                                                                                                            dd_max['voting_depth'].values[0],\n",
    "                                                                                                                            dd_max['voting_width'].values[0],\n",
    "                                                                                                                            dd_max['opening'].values[0],\n",
    "                                                                                                                            dd_max['closing'].values[0],\n",
    "                                                                                                                            dd_max['count'].values[0]/100,))\n",
    "dd_max"
   ]
  },
  {
   "cell_type": "code",
   "execution_count": 31,
   "metadata": {},
   "outputs": [
    {
     "name": "stdout",
     "output_type": "stream",
     "text": [
      "Fold 1:  298 iterations - max it. = 1, max.MCC = 0.8104  [116  175  18.0000]\n",
      "Fold 2:  300 iterations - max it. = 1, max.MCC = 0.8173  [116  175  18.0000]\n",
      "Fold 3:  300 iterations - max it. = 177, max.MCC = 0.8072  [140  200  16.0000]\n",
      "Fold 4:  298 iterations - max it. = 221, max.MCC = 0.8301  [101  200  18.0000]\n",
      "Fold 5:  300 iterations - max it. = 70, max.MCC = 0.8041  [116  200  22.0000]\n",
      "Fold 6:  300 iterations - max it. = 232, max.MCC = 0.8264  [172  200  19.0000]\n",
      "Fold 7:  300 iterations - max it. = 270, max.MCC = 0.8505  [159  179  18.0000]\n",
      "Fold 8:  300 iterations - max it. = 294, max.MCC = 0.8133  [98  200  16.0000]\n",
      "Fold 9:  300 iterations - max it. = 98, max.MCC = 0.8232  [68  200  21.0000]\n"
     ]
    }
   ],
   "source": [
    "res_dir = os.path.join(RESULT_DIR, classifier, alignment, 'postprocessing')\n",
    "res_df = {}\n",
    "res_mcc = []\n",
    "for fold in range(1,10):\n",
    "    csv_dir = os.path.join(res_dir, 'results_fold{0:02d}.csv'.format(fold))\n",
    "    dd = pd.read_csv(csv_dir, index_col=0)\n",
    "    dd = dd[cols]\n",
    "    dd.reset_index(drop=True, inplace=True)\n",
    "    dd = dd[dd[cc[2]] <=200]\n",
    "    #dd['trial'] = np.repeat(list(range(int(dd.shape[0] / 8))),8).astype(int)\n",
    "    dd = dd.groupby(cc).aggregate({\n",
    "                    'tn':np.sum,'fp':np.sum,'fn':np.sum,\n",
    "                    'tp':np.sum,'time':np.average}).reset_index()\n",
    "    dd['MCC'] = dd.apply(lambda x: MCC(x['tn'],x['fp'],x['fn'],x['tp']), axis=1)\n",
    "    dd_max = dd.loc[dd['MCC'] == dd['MCC'].max(), :]\n",
    "    #res_df[fold] = {'num_leaves':dd_max['num_leaves'].values[0], 'min_child_samples':dd_max['min_child_samples'].values[0], 'threshold':dd_max['threshold'].values[0]}\n",
    "    print('Fold {0}:  {1:>3} iterations - max it. = {6}, max.MCC = {2:.4f}  [{3}  {4}  {5:0.4f}]'.format(fold,dd[cc[1]].max()+1,dd['MCC'].max(),\n",
    "                                                                                                         dd_max[cc[2]].values[0],\n",
    "                                                                                                         dd_max[cc[3]].values[0],\n",
    "                                                                                                         dd_max['threshold'].values[0],\n",
    "                                                                                                         dd_max[cc[1]].values[0]))\n",
    "    #res_mcc.append(dd['MCC'].max())\n"
   ]
  },
  {
   "cell_type": "code",
   "execution_count": 5,
   "metadata": {},
   "outputs": [
    {
     "ename": "SyntaxError",
     "evalue": "invalid syntax (3534071284.py, line 1)",
     "output_type": "error",
     "traceback": [
      "\u001b[0;36m  File \u001b[0;32m\"/tmp/ipykernel_13499/3534071284.py\"\u001b[0;36m, line \u001b[0;32m1\u001b[0m\n\u001b[0;31m    Fold 1:  300 iterations - max it. = 120, max.MCC = 0.7272  [200  46  38.0000]\u001b[0m\n\u001b[0m         ^\u001b[0m\n\u001b[0;31mSyntaxError\u001b[0m\u001b[0;31m:\u001b[0m invalid syntax\n"
     ]
    }
   ],
   "source": [
    "Fold 1:  300 iterations - max it. = 204, max.MCC = 0.8034  [100  200  16.0000]\n",
    "Fold 2:  300 iterations - max it. = 285, max.MCC = 0.8123  [79  69  17.0000]\n",
    "Fold 3:  300 iterations - max it. = 158, max.MCC = 0.7973  [110  192  13.0000]\n",
    "Fold 4:  300 iterations - max it. = 122, max.MCC = 0.8219  [77  196  17.0000]\n",
    "Fold 5:  300 iterations - max it. = 144, max.MCC = 0.7974  [88  200  17.0000]\n",
    "Fold 6:  300 iterations - max it. = 170, max.MCC = 0.8215  [130  199  18.0000]\n",
    "Fold 7:  300 iterations - max it. = 176, max.MCC = 0.8452  [217  196  15.0000]\n",
    "Fold 8:  300 iterations - max it. = 189, max.MCC = 0.8159  [195  158  14.0000]\n",
    "Fold 9:  300 iterations - max it. = 188, max.MCC = 0.8080  [45  200  19.0000]\n",
    "\n",
    "\n",
    "Fold 1:  300 iterations - max it. = 120, max.MCC = 0.7272  [200  46  38.0000]\n",
    "Fold 2:  300 iterations - max it. = 143, max.MCC = 0.7370  [200  44  38.0000]\n",
    "Fold 3:  300 iterations - max it. = 228, max.MCC = 0.7264  [200  67  37.0000]\n",
    "Fold 4:  300 iterations - max it. = 81, max.MCC = 0.7517  [180  51  40.0000]\n",
    "Fold 5:  159 iterations - max it. = 20, max.MCC = 0.7196  [200  165  40.0000]\n",
    "Fold 6:  300 iterations - max it. = 163, max.MCC = 0.7494  [200  67  39.0000]\n",
    "Fold 7:  300 iterations - max it. = 262, max.MCC = 0.7773  [199  117  39.0000]\n",
    "Fold 8:  153 iterations - max it. = 76, max.MCC = 0.7395  [200  69  38.0000]\n",
    "Fold 9:  241 iterations - max it. = 117, max.MCC = 0.7316  [200  43  38.0000]\n",
    "\n",
    "\n",
    "Fold 1:  300 iterations - max it. = 1, max.MCC = 0.8104  [116  175  18.0000]\n",
    "Fold 2:  300 iterations - max it. = 1, max.MCC = 0.8173  [116  175  18.0000]\n",
    "Fold 3:  300 iterations - max it. = 177, max.MCC = 0.8072  [140  200  16.0000]\n",
    "Fold 4:  300 iterations - max it. = 221, max.MCC = 0.8301  [101  200  18.0000]\n",
    "Fold 5:  300 iterations - max it. = 70, max.MCC = 0.8041  [116  200  22.0000]\n",
    "Fold 6:  300 iterations - max it. = 33, max.MCC = 0.8272  [214  200  17.0000]\n",
    "Fold 7:  300 iterations - max it. = 270, max.MCC = 0.8505  [159  179  18.0000]\n",
    "Fold 8:  300 iterations - max it. = 294, max.MCC = 0.8133  [98  200  16.0000]\n",
    "Fold 9:  300 iterations - max it. = 98, max.MCC = 0.8232  [68  200  21.0000]"
   ]
  },
  {
   "cell_type": "code",
   "execution_count": 11,
   "metadata": {},
   "outputs": [
    {
     "name": "stdout",
     "output_type": "stream",
     "text": [
      "\\textbf{1} & 288 & 200 &  50 & 0.39 & 0.7263 & 0.2003 \\\\\n",
      "\\textbf{2} & 300 & 200 &  44 & 0.39 & 0.7331 & 0.1940 \\\\\n",
      "\\textbf{3} & 300 & 200 &  68 & 0.38 & 0.7244 & 0.2001 \\\\\n",
      "\\textbf{4} & 300 & 200 &  50 & 0.40 & 0.7527 & 0.1856 \\\\\n",
      "\\textbf{5} & 284 & 200 &  78 & 0.41 & 0.7178 & 0.2151 \\\\\n",
      "\\textbf{6} & 300 & 200 &  73 & 0.40 & 0.7459 & 0.1830 \\\\\n",
      "\\textbf{7} & 300 & 200 &  57 & 0.40 & 0.7739 & 0.1640 \\\\\n",
      "\\textbf{8} & 287 & 200 &  52 & 0.38 & 0.7380 & 0.1908 \\\\\n",
      "\\textbf{9} & 300 & 200 &  64 & 0.39 & 0.7330 & 0.1991 \\\\\n"
     ]
    }
   ],
   "source": [
    "res_dir = os.path.join(RESULT_DIR, classifier, alignment, 'classification')\n",
    "res_df = {}\n",
    "res_mcc = []\n",
    "for fold in range(1,10):\n",
    "    csv_dir = os.path.join(res_dir, 'results_fold{0:02d}.csv'.format(fold))\n",
    "    dd = pd.read_csv(csv_dir, index_col=0)\n",
    "    dd = dd[cols]\n",
    "    dd.reset_index(drop=True, inplace=True)\n",
    "    #dd['trial'] = np.repeat(list(range(int(dd.shape[0] / 8))),8).astype(int)\n",
    "    dd = dd.groupby(cc).aggregate({\n",
    "                    'tn':np.sum,'fp':np.sum,'fn':np.sum,\n",
    "                    'tp':np.sum,'time':np.average}).reset_index()\n",
    "    dd['MCC'] = dd.apply(lambda x: MCC(x['tn'],x['fp'],x['fn'],x['tp']), axis=1)\n",
    "    dd['DIS'] = dd.apply(lambda x: DIS(x['tn'],x['fp'],x['fn'],x['tp']), axis=1)\n",
    "    dd_max = dd.loc[dd['MCC'] == dd['MCC'].max(), :]\n",
    "    #res_df[fold] = {'num_leaves':dd_max['num_leaves'].values[0], 'min_child_samples':dd_max['min_child_samples'].values[0], 'threshold':dd_max['threshold'].values[0]}\n",
    "    print('\\\\textbf{{{0}}} & {1:>3} & {2:>3} & {3:>3} & {4:0.2f} & {5:0.4f} & {6:0.4f} \\\\\\\\'.format(fold,\n",
    "                                                                                            dd[cc[1]].max()+1,\n",
    "                                                                                            dd_max[cc[2]].values[0],\n",
    "                                                                                            dd_max[cc[3]].values[0],\n",
    "                                                                                            dd_max['threshold'].values[0]/100,\n",
    "                                                                                            dd_max['MCC'].values[0],\n",
    "                                                                                            dd_max['DIS'].values[0],\n",
    "                                                                                        ))"
   ]
  },
  {
   "cell_type": "code",
   "execution_count": 26,
   "metadata": {},
   "outputs": [
    {
     "name": "stdout",
     "output_type": "stream",
     "text": [
      "1 1 True\n",
      "1 2 True\n",
      "1 3 True\n",
      "1 4 True\n",
      "1 5 True\n",
      "1 6 True\n",
      "1 7 True\n",
      "1 8 True\n",
      "2 1 True\n",
      "2 2 True\n",
      "2 3 True\n",
      "2 4 True\n",
      "2 5 True\n",
      "2 6 True\n",
      "2 7 True\n",
      "2 8 True\n",
      "3 1 True\n",
      "3 2 True\n",
      "3 3 True\n",
      "3 4 True\n",
      "3 5 True\n",
      "3 6 True\n",
      "3 7 True\n",
      "3 8 True\n",
      "4 1 True\n",
      "4 2 True\n",
      "4 3 True\n",
      "4 4 True\n",
      "4 5 True\n",
      "4 6 True\n",
      "4 7 True\n",
      "4 8 True\n",
      "5 1 True\n",
      "5 2 True\n",
      "5 3 True\n",
      "5 4 True\n",
      "5 5 True\n",
      "5 6 True\n",
      "5 7 True\n",
      "5 8 True\n",
      "6 1 True\n",
      "6 2 True\n",
      "6 3 True\n",
      "6 4 True\n",
      "6 5 True\n",
      "6 6 True\n",
      "6 7 True\n",
      "6 8 True\n",
      "7 1 True\n",
      "7 2 True\n",
      "7 3 True\n",
      "7 4 True\n",
      "7 5 True\n",
      "7 6 True\n",
      "7 7 True\n",
      "7 8 True\n",
      "8 1 True\n",
      "8 2 True\n",
      "8 3 True\n",
      "8 4 True\n",
      "8 5 True\n",
      "8 6 True\n",
      "8 7 True\n",
      "8 8 True\n",
      "9 1 True\n",
      "9 2 True\n",
      "9 3 True\n",
      "9 4 True\n",
      "9 5 True\n",
      "9 6 True\n",
      "9 7 True\n",
      "9 8 True\n"
     ]
    }
   ],
   "source": [
    "# Extra\n",
    "import os\n",
    "from src import DATA_DIR\n",
    "from src.config import fold_split\n",
    "import pickle\n",
    "\n",
    "from torch.utils.data import DataLoader\n",
    "from src.dataset import VDAODataset\n",
    "\n",
    "alignment = 'temporal'\n",
    "\n",
    "ddir = os.path.join(DATA_DIR, 'post')\n",
    "\n",
    "for fold in range(1, 10):\n",
    "    for split in range(1, 9):\n",
    "        dfile = os.path.join(ddir, \n",
    "                            'data_rf_{0}_fold{1:02d}_spl{2:02d}.pkl'.format(alignment,\n",
    "                                                                            fold,\n",
    "                                                                            split))\n",
    "        dd = pickle.load(open(dfile, 'rb'))\n",
    "        files = list(dd['silhouette'].keys())\n",
    "        dataset = VDAODataset(fold=fold,\n",
    "                            split=split,\n",
    "                            type='validation',\n",
    "                            alignment=alignment,\n",
    "                            transform=True)\n",
    "        loader = DataLoader(dataset, num_workers=8, batch_size=1, shuffle=False)\n",
    "\n",
    "        # List of videos\n",
    "        videos = dataset.align_df.test_file.unique()\n",
    "        print(fold, split, files.sort() == videos.sort())\n"
   ]
  },
  {
   "cell_type": "code",
   "execution_count": 24,
   "metadata": {},
   "outputs": [
    {
     "data": {
      "text/plain": [
       "{'training': [1, 4, 6, 7, 9], 'validation': [2, 5, 8]}"
      ]
     },
     "execution_count": 24,
     "metadata": {},
     "output_type": "execute_result"
    }
   ],
   "source": [
    "fold_split[3][4]"
   ]
  }
 ],
 "metadata": {
  "kernelspec": {
   "display_name": "pixel_env",
   "language": "python",
   "name": "python3"
  },
  "language_info": {
   "codemirror_mode": {
    "name": "ipython",
    "version": 3
   },
   "file_extension": ".py",
   "mimetype": "text/x-python",
   "name": "python",
   "nbconvert_exporter": "python",
   "pygments_lexer": "ipython3",
   "version": "3.10.4"
  },
  "orig_nbformat": 4,
  "vscode": {
   "interpreter": {
    "hash": "3fe4b717e41534989dd514def504f4e45872ef3d1cf72d7948bd023446991b72"
   }
  }
 },
 "nbformat": 4,
 "nbformat_minor": 2
}
