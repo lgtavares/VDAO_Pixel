{
 "cells": [
  {
   "cell_type": "code",
   "execution_count": 5,
   "metadata": {},
   "outputs": [],
   "source": [
    "import pickle\n",
    "import os\n",
    "import cv2\n",
    "import numpy as np\n",
    "import PIL\n",
    "#PIL.PILLOW_VERSION = PIL.__version__\n",
    "\n",
    "from src.dataset import VDAODataset\n",
    "from torch.utils.data import DataLoader\n",
    "from src import RESULT_DIR\n",
    "from src.utils import MCC, DIS, conf_mat\n",
    "import matplotlib.pyplot as plt\n",
    "import pandas as pd\n",
    "\n",
    "from scripts.extra.mcDTSR.utils.srmc_outer_repr import srmc_outer_repr"
   ]
  },
  {
   "cell_type": "code",
   "execution_count": 6,
   "metadata": {},
   "outputs": [],
   "source": [
    "fold = 1\n",
    "num_frames = 201\n",
    "dataset = VDAODataset(fold = fold, split = 0, type = 'test',\n",
    "                      alignment = 'temporal', transform = False)\n",
    "dd = dataset.align_df\n",
    "vid_list = dd.test_file.unique()\n",
    "loader = DataLoader(dataset, num_workers=8, batch_size=1, shuffle=False)\n",
    "ref_frame, tar_frame, _ , _   = dataset.__getitem__(0)\n",
    "w, h = ref_frame.shape[1], ref_frame.shape[0]\n",
    "\n",
    "ref_vid = np.zeros((h, w, 201))\n",
    "tar_vid = np.zeros((h, w, 201))"
   ]
  },
  {
   "cell_type": "code",
   "execution_count": 7,
   "metadata": {},
   "outputs": [],
   "source": [
    "for i in range(num_frames):\n",
    "    ref_frame, tar_frame, _ , _   = dataset.__getitem__(i)\n",
    "    ref_vid[:, :, i] = cv2.cvtColor(ref_frame, cv2.COLOR_RGB2GRAY)\n",
    "    tar_vid[:, :, i] = cv2.cvtColor(tar_frame, cv2.COLOR_RGB2GRAY)"
   ]
  },
  {
   "cell_type": "code",
   "execution_count": 8,
   "metadata": {},
   "outputs": [],
   "source": [
    "ww = 280\n",
    "hh = 150\n",
    "\n",
    "params = {'windowSize': (hh, ww),\n",
    "          'windowPos': ((h-hh)/2, (w-ww)/2),\n",
    "          'transformType': '4P-HOMOGRAPHY',\n",
    "          'display': 2,\n",
    "          'stoppingDelta': 1e-4,\n",
    "          'rho': 1.01,\n",
    "          'inner_tol': 1e-4,\n",
    "          'inner_maxIter': 5000,\n",
    "          'lambda': 1e2,\n",
    "          'DISPLAY_EVERY': 10\n",
    "          }\n"
   ]
  },
  {
   "cell_type": "code",
   "execution_count": 9,
   "metadata": {},
   "outputs": [],
   "source": [
    "data = {'prevObj': np.inf,\n",
    "        'numIterOuter': 0,\n",
    "        'numIterInner': [],\n",
    "        'W': {},\n",
    "        'xi': {},\n",
    "        'W_1': [],\n",
    "        'E_1': [],\n",
    "        'dt_1': [],\n",
    "        'time': [],\n",
    "        'rhos': [],\n",
    "        'rerr': []\n",
    "        }"
   ]
  },
  {
   "cell_type": "code",
   "execution_count": 12,
   "metadata": {},
   "outputs": [
    {
     "name": "stdout",
     "output_type": "stream",
     "text": [
      "info: no T0 given, setting T0 = I\n"
     ]
    },
    {
     "ename": "RuntimeError",
     "evalue": "invalid shape for coordinate array",
     "output_type": "error",
     "traceback": [
      "\u001b[0;31m---------------------------------------------------------------------------\u001b[0m",
      "\u001b[0;31mRuntimeError\u001b[0m                              Traceback (most recent call last)",
      "\u001b[0;32m/tmp/ipykernel_2925/1547885463.py\u001b[0m in \u001b[0;36m<module>\u001b[0;34m\u001b[0m\n\u001b[1;32m      4\u001b[0m \u001b[0;32mfor\u001b[0m \u001b[0mk\u001b[0m \u001b[0;32min\u001b[0m \u001b[0mrange\u001b[0m\u001b[0;34m(\u001b[0m\u001b[0mdata\u001b[0m\u001b[0;34m[\u001b[0m\u001b[0;34m'numIterOuter'\u001b[0m\u001b[0;34m]\u001b[0m\u001b[0;34m+\u001b[0m\u001b[0;36m1\u001b[0m\u001b[0;34m,\u001b[0m \u001b[0mmaxIter\u001b[0m\u001b[0;34m)\u001b[0m\u001b[0;34m:\u001b[0m\u001b[0;34m\u001b[0m\u001b[0;34m\u001b[0m\u001b[0m\n\u001b[1;32m      5\u001b[0m     \u001b[0mparams\u001b[0m\u001b[0;34m[\u001b[0m\u001b[0;34m'maxIter'\u001b[0m\u001b[0;34m]\u001b[0m \u001b[0;34m=\u001b[0m \u001b[0mk\u001b[0m\u001b[0;34m\u001b[0m\u001b[0;34m\u001b[0m\u001b[0m\n\u001b[0;32m----> 6\u001b[0;31m     \u001b[0;34m[\u001b[0m\u001b[0mXr\u001b[0m\u001b[0;34m,\u001b[0m \u001b[0mXt\u001b[0m\u001b[0;34m,\u001b[0m \u001b[0mW\u001b[0m\u001b[0;34m,\u001b[0m \u001b[0mE\u001b[0m\u001b[0;34m,\u001b[0m \u001b[0mxi\u001b[0m\u001b[0;34m,\u001b[0m \u001b[0mdata\u001b[0m\u001b[0;34m]\u001b[0m \u001b[0;34m=\u001b[0m \u001b[0msrmc_outer_repr\u001b[0m\u001b[0;34m(\u001b[0m\u001b[0mref_vid\u001b[0m\u001b[0;34m,\u001b[0m \u001b[0mtar_vid\u001b[0m\u001b[0;34m,\u001b[0m \u001b[0mparams\u001b[0m\u001b[0;34m,\u001b[0m \u001b[0mdata\u001b[0m\u001b[0;34m)\u001b[0m\u001b[0;34m;\u001b[0m\u001b[0;34m\u001b[0m\u001b[0;34m\u001b[0m\u001b[0m\n\u001b[0m\u001b[1;32m      7\u001b[0m     \u001b[0;32mif\u001b[0m \u001b[0mdata\u001b[0m\u001b[0;34m[\u001b[0m\u001b[0;34m'rerr'\u001b[0m\u001b[0;34m]\u001b[0m\u001b[0;34m[\u001b[0m\u001b[0mk\u001b[0m\u001b[0;34m]\u001b[0m \u001b[0;34m<\u001b[0m \u001b[0mparams\u001b[0m\u001b[0;34m[\u001b[0m\u001b[0;34m'stoppingDelta'\u001b[0m\u001b[0;34m]\u001b[0m\u001b[0;34m:\u001b[0m\u001b[0;34m\u001b[0m\u001b[0;34m\u001b[0m\u001b[0m\n\u001b[1;32m      8\u001b[0m         \u001b[0;32mbreak\u001b[0m\u001b[0;34m\u001b[0m\u001b[0;34m\u001b[0m\u001b[0m\n",
      "\u001b[0;32m/nfs/home/luiz.tavares/Workspace/VDAO_Pixel/scripts/extra/mcDTSR/utils/srmc_outer_repr.py\u001b[0m in \u001b[0;36msrmc_outer_repr\u001b[0;34m(Vr, Vt, params, data, T0)\u001b[0m\n\u001b[1;32m     74\u001b[0m                         (hh*ww, 1), order='F')\n\u001b[1;32m     75\u001b[0m         \u001b[0mXr\u001b[0m\u001b[0;34m[\u001b[0m\u001b[0;34m:\u001b[0m\u001b[0;34m,\u001b[0m \u001b[0midx\u001b[0m\u001b[0;34m]\u001b[0m \u001b[0;34m=\u001b[0m \u001b[0mIr\u001b[0m \u001b[0;34m/\u001b[0m \u001b[0mnp\u001b[0m\u001b[0;34m.\u001b[0m\u001b[0mlinalg\u001b[0m\u001b[0;34m.\u001b[0m\u001b[0mnorm\u001b[0m\u001b[0;34m(\u001b[0m\u001b[0mIr\u001b[0m\u001b[0;34m)\u001b[0m  \u001b[0;31m# normalize pixel intensities\u001b[0m\u001b[0;34m\u001b[0m\u001b[0;34m\u001b[0m\u001b[0m\n\u001b[0;32m---> 76\u001b[0;31m \u001b[0;34m\u001b[0m\u001b[0m\n\u001b[0m\u001b[1;32m     77\u001b[0m     \u001b[0;31m# remaining code here\u001b[0m\u001b[0;34m\u001b[0m\u001b[0;34m\u001b[0m\u001b[0m\n\u001b[1;32m     78\u001b[0m     \u001b[0;31m# ...\u001b[0m\u001b[0;34m\u001b[0m\u001b[0;34m\u001b[0m\u001b[0m\n",
      "\u001b[0;32m~/.local/miniconda3/envs/pixel_env/lib/python3.10/site-packages/skimage/transform/_warps.py\u001b[0m in \u001b[0;36mwarp\u001b[0;34m(image, inverse_map, map_args, output_shape, order, mode, cval, clip, preserve_range)\u001b[0m\n\u001b[1;32m    980\u001b[0m \u001b[0;34m\u001b[0m\u001b[0m\n\u001b[1;32m    981\u001b[0m         \u001b[0mndi_mode\u001b[0m \u001b[0;34m=\u001b[0m \u001b[0m_to_ndimage_mode\u001b[0m\u001b[0;34m(\u001b[0m\u001b[0mmode\u001b[0m\u001b[0;34m)\u001b[0m\u001b[0;34m\u001b[0m\u001b[0;34m\u001b[0m\u001b[0m\n\u001b[0;32m--> 982\u001b[0;31m         warped = ndi.map_coordinates(image, coords, prefilter=prefilter,\n\u001b[0m\u001b[1;32m    983\u001b[0m                                      mode=ndi_mode, order=order, cval=cval)\n\u001b[1;32m    984\u001b[0m \u001b[0;34m\u001b[0m\u001b[0m\n",
      "\u001b[0;32m~/.local/miniconda3/envs/pixel_env/lib/python3.10/site-packages/scipy/ndimage/_interpolation.py\u001b[0m in \u001b[0;36mmap_coordinates\u001b[0;34m(input, coordinates, output, order, mode, cval, prefilter)\u001b[0m\n\u001b[1;32m    435\u001b[0m         \u001b[0;32mraise\u001b[0m \u001b[0mRuntimeError\u001b[0m\u001b[0;34m(\u001b[0m\u001b[0;34m'input and output rank must be > 0'\u001b[0m\u001b[0;34m)\u001b[0m\u001b[0;34m\u001b[0m\u001b[0;34m\u001b[0m\u001b[0m\n\u001b[1;32m    436\u001b[0m     \u001b[0;32mif\u001b[0m \u001b[0mcoordinates\u001b[0m\u001b[0;34m.\u001b[0m\u001b[0mshape\u001b[0m\u001b[0;34m[\u001b[0m\u001b[0;36m0\u001b[0m\u001b[0;34m]\u001b[0m \u001b[0;34m!=\u001b[0m \u001b[0minput\u001b[0m\u001b[0;34m.\u001b[0m\u001b[0mndim\u001b[0m\u001b[0;34m:\u001b[0m\u001b[0;34m\u001b[0m\u001b[0;34m\u001b[0m\u001b[0m\n\u001b[0;32m--> 437\u001b[0;31m         \u001b[0;32mraise\u001b[0m \u001b[0mRuntimeError\u001b[0m\u001b[0;34m(\u001b[0m\u001b[0;34m'invalid shape for coordinate array'\u001b[0m\u001b[0;34m)\u001b[0m\u001b[0;34m\u001b[0m\u001b[0;34m\u001b[0m\u001b[0m\n\u001b[0m\u001b[1;32m    438\u001b[0m     \u001b[0mcomplex_output\u001b[0m \u001b[0;34m=\u001b[0m \u001b[0mnumpy\u001b[0m\u001b[0;34m.\u001b[0m\u001b[0miscomplexobj\u001b[0m\u001b[0;34m(\u001b[0m\u001b[0minput\u001b[0m\u001b[0;34m)\u001b[0m\u001b[0;34m\u001b[0m\u001b[0;34m\u001b[0m\u001b[0m\n\u001b[1;32m    439\u001b[0m     output = _ni_support._get_output(output, input, shape=output_shape,\n",
      "\u001b[0;31mRuntimeError\u001b[0m: invalid shape for coordinate array"
     ]
    }
   ],
   "source": [
    "# RASL main loop: do robust batch image alignment\n",
    "\n",
    "maxIter = 100\n",
    "for k in range(data['numIterOuter']+1, maxIter):\n",
    "    params['maxIter'] = k\n",
    "    [Xr, Xt, W, E, xi, data] = srmc_outer_repr(ref_vid, tar_vid, params, data);\n",
    "    if data['rerr'][k] < params['stoppingDelta']:\n",
    "        break\n",
    "\n"
   ]
  }
 ],
 "metadata": {
  "kernelspec": {
   "display_name": "pixel_env",
   "language": "python",
   "name": "python3"
  },
  "language_info": {
   "codemirror_mode": {
    "name": "ipython",
    "version": 3
   },
   "file_extension": ".py",
   "mimetype": "text/x-python",
   "name": "python",
   "nbconvert_exporter": "python",
   "pygments_lexer": "ipython3",
   "version": "3.10.4"
  },
  "orig_nbformat": 4
 },
 "nbformat": 4,
 "nbformat_minor": 2
}
