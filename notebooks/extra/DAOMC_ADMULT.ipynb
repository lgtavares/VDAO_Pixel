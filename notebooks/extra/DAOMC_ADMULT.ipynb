{
 "cells": [
  {
   "cell_type": "code",
   "execution_count": 5,
   "metadata": {},
   "outputs": [
    {
     "name": "stdout",
     "output_type": "stream",
     "text": [
      "The autoreload extension is already loaded. To reload it, use:\n",
      "  %reload_ext autoreload\n"
     ]
    }
   ],
   "source": [
    "%load_ext autoreload\n",
    "%autoreload 2\n",
    "\n",
    "import os\n",
    "import cv2\n",
    "from src.dataset import VDAODataset\n",
    "from src import PROJECT_DIR\n",
    "\n",
    "videos_dir = os.path.join(PROJECT_DIR,'extra/vdao200')\n",
    "ref_dir = os.path.join(videos_dir,'ref')\n",
    "tar_dir = os.path.join(videos_dir,'tar')\n"
   ]
  },
  {
   "cell_type": "code",
   "execution_count": 9,
   "metadata": {},
   "outputs": [],
   "source": [
    "for fold in range(2,10):\n",
    "    \n",
    "    dataset = VDAODataset(fold = fold, split = 0, type = 'test', \n",
    "                          alignment = 'temporal', transform = False)\n",
    "\n",
    "    dd = dataset.align_df\n",
    "    videos = dd.test_file.unique()\n",
    "    fourcc = cv2.VideoWriter_fourcc(*'mp4v')\n",
    "    for vid in videos:\n",
    "        dset = dd[dd.test_file == vid]\n",
    "        idx  = dset.index\n",
    "\n",
    "        ref_frame, _, _ , _   = dataset.__getitem__(idx[0])\n",
    "        w, h = ref_frame.shape[1],ref_frame.shape[0]\n",
    "\n",
    "        ref_out = cv2.VideoWriter(os.path.join(ref_dir, '{0:02d}.avi'.format(int(vid))), fourcc, 24, (w,h))\n",
    "        tar_out = cv2.VideoWriter(os.path.join(tar_dir, '{0:02d}.avi'.format(int(vid))), fourcc, 24, (w,h))\n",
    "            \n",
    "        for ii in idx:\n",
    "            ref_frame, tar_frame, sil_frame , _   = dataset.__getitem__(ii)\n",
    "            ref_out.write(cv2.cvtColor(ref_frame, cv2.COLOR_BGR2RGB))\n",
    "            tar_out.write(cv2.cvtColor(tar_frame, cv2.COLOR_BGR2RGB))\n",
    "\n",
    "        ref_out.release()\n",
    "        tar_out.release()\n"
   ]
  },
  {
   "cell_type": "code",
   "execution_count": null,
   "metadata": {},
   "outputs": [],
   "source": [
    "\n"
   ]
  }
 ],
 "metadata": {
  "kernelspec": {
   "display_name": "pixel_env",
   "language": "python",
   "name": "python3"
  },
  "language_info": {
   "codemirror_mode": {
    "name": "ipython",
    "version": 3
   },
   "file_extension": ".py",
   "mimetype": "text/x-python",
   "name": "python",
   "nbconvert_exporter": "python",
   "pygments_lexer": "ipython3",
   "version": "3.10.4 (main, Mar 31 2022, 08:41:55) [GCC 7.5.0]"
  },
  "orig_nbformat": 4,
  "vscode": {
   "interpreter": {
    "hash": "3fe4b717e41534989dd514def504f4e45872ef3d1cf72d7948bd023446991b72"
   }
  }
 },
 "nbformat": 4,
 "nbformat_minor": 2
}
