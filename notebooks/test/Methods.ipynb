{
 "cells": [
  {
   "cell_type": "code",
   "execution_count": 13,
   "metadata": {},
   "outputs": [],
   "source": [
    "import pickle\n",
    "import os\n",
    "import cv2\n",
    "import numpy as np\n",
    "from src.dataset import VDAODataset\n",
    "from src import RESULT_DIR\n",
    "import matplotlib.pyplot as plt"
   ]
  },
  {
   "cell_type": "markdown",
   "metadata": {},
   "source": [
    "### Creating Silhouette test file"
   ]
  },
  {
   "cell_type": "code",
   "execution_count": 5,
   "metadata": {},
   "outputs": [],
   "source": [
    "result_dict = {}\n",
    "pickle.dump(result_dict, open(os.path.join(RESULT_DIR,'silhouette.pkl'), 'wb'))"
   ]
  },
  {
   "cell_type": "code",
   "execution_count": 6,
   "metadata": {},
   "outputs": [
    {
     "name": "stdout",
     "output_type": "stream",
     "text": [
      "9\r"
     ]
    }
   ],
   "source": [
    "for fold in range(1,10):\n",
    "    print(fold, end='\\r')\n",
    "    temp_dict = {}\n",
    "    dataset = VDAODataset(fold = fold, split = 0, type = 'test',\n",
    "                        alignment = 'elastic', transform = False)\n",
    "\n",
    "    dd = dataset.align_df\n",
    "    vid_list = dd.test_file.unique()\n",
    "\n",
    "    for vid in vid_list:\n",
    "        idxs = list(dd[dd.test_file==vid].index)\n",
    "        arr = np.array([dataset.__getitem__(ii)[2] for ii in idxs])\n",
    "        arr[arr == 0.5] = 127\n",
    "        arr[arr == 1] = 255\n",
    "        temp_dict[int(vid)] = arr.astype('uint8')\n",
    "        \n",
    "    res_dict = pickle.load(open(os.path.join(RESULT_DIR,\n",
    "                                             'silhouette.pkl'),'rb'))\n",
    "    res_dict[int(fold)] = temp_dict\n",
    "    pickle.dump(res_dict, open(os.path.join(RESULT_DIR,\n",
    "                                            'silhouette.pkl'), 'wb'))"
   ]
  },
  {
   "cell_type": "markdown",
   "metadata": {},
   "source": [
    "### Creating MCBS test file"
   ]
  },
  {
   "cell_type": "code",
   "execution_count": 24,
   "metadata": {},
   "outputs": [
    {
     "name": "stdout",
     "output_type": "stream",
     "text": [
      "9\r"
     ]
    }
   ],
   "source": [
    "base_dir =  '/nfs/proc/luiz.tavares/other_methods/MCBS/'\n",
    "res_dict = {}\n",
    "pickle.dump(res_dict, open(os.path.join(RESULT_DIR, 'test_results',\n",
    "                                           'MCBS_Both.pkl'), 'wb'))\n",
    "\n",
    "for fold in range(1,10):\n",
    "\n",
    "    print(fold, end='\\r')\n",
    "    img_dir = os.path.join(base_dir,'fold{0:02d}/Both'.format(fold))\n",
    "\n",
    "    temp_dict = {}\n",
    "    dataset = VDAODataset(fold = fold, split = 0, type = 'test',\n",
    "                         alignment = 'elastic', transform = False)\n",
    "\n",
    "    dd = dataset.align_df\n",
    "    vid_list = dd.test_file.unique()\n",
    "\n",
    "    for vid in vid_list:\n",
    "        idxs = list(dd[dd.test_file==vid].index)\n",
    "        arr = [cv2.imread(os.path.join(img_dir, '{0}.png'.format(ii)))[:,:,0] \n",
    "               for ii in idxs]\n",
    "        temp_dict[int(vid)] = np.array(arr).astype('uint8')\n",
    "        \n",
    "    # Saving progress\n",
    "    res_dict = pickle.load(open(os.path.join(RESULT_DIR, 'test_results',\n",
    "                                            'MCBS_Both.pkl'),'rb'))\n",
    "    res_dict[int(fold)] = temp_dict\n",
    "    pickle.dump(res_dict, open(os.path.join(RESULT_DIR, 'test_results',\n",
    "                                            'MCBS_Both.pkl'), 'wb'))    "
   ]
  },
  {
   "cell_type": "code",
   "execution_count": 28,
   "metadata": {},
   "outputs": [
    {
     "name": "stdout",
     "output_type": "stream",
     "text": [
      "9\r"
     ]
    }
   ],
   "source": [
    "base_dir =  '/nfs/proc/luiz.tavares/other_methods/MCBS/'\n",
    "res_dict = {}\n",
    "pickle.dump(res_dict, open(os.path.join(RESULT_DIR, 'test_results',\n",
    "                                           'MCBS_NVD.pkl'), 'wb'))\n",
    "\n",
    "for fold in range(1,10):\n",
    "\n",
    "    print(fold, end='\\r')\n",
    "    img_dir = os.path.join(base_dir,'fold{0:02d}/NVD'.format(fold))\n",
    "\n",
    "    temp_dict = {}\n",
    "    dataset = VDAODataset(fold = fold, split = 0, type = 'test',\n",
    "                        alignment = 'elastic', transform = False)\n",
    "\n",
    "    dd = dataset.align_df\n",
    "    vid_list = dd.test_file.unique()\n",
    "\n",
    "    for vid in vid_list:\n",
    "        idxs = list(dd[dd.test_file==vid].index)\n",
    "        arr = [cv2.imread(os.path.join(img_dir, '{0}.png'.format(ii)))[:,:,0] \n",
    "               for ii in idxs]\n",
    "        temp_dict[int(vid)] = np.array(arr).astype('uint8')\n",
    "        \n",
    "    # Saving progress\n",
    "    res_dict = pickle.load(open(os.path.join(RESULT_DIR, 'test_results',\n",
    "                                            'MCBS_NVD.pkl'),'rb'))\n",
    "    res_dict[int(fold)] = temp_dict\n",
    "    pickle.dump(res_dict, open(os.path.join(RESULT_DIR, 'test_results',\n",
    "                                            'MCBS_NVD.pkl'), 'wb'))    "
   ]
  },
  {
   "cell_type": "code",
   "execution_count": 27,
   "metadata": {},
   "outputs": [
    {
     "name": "stdout",
     "output_type": "stream",
     "text": [
      "9\r"
     ]
    }
   ],
   "source": [
    "base_dir =  '/nfs/proc/luiz.tavares/other_methods/MCBS/'\n",
    "res_dict = {}\n",
    "pickle.dump(res_dict, open(os.path.join(RESULT_DIR, 'test_results',\n",
    "                                           'MCBS_RRF.pkl'), 'wb'))\n",
    "\n",
    "for fold in range(1,10):\n",
    "\n",
    "    print(fold, end='\\r')\n",
    "    img_dir = os.path.join(base_dir,'fold{0:02d}/RRF'.format(fold))\n",
    "\n",
    "    temp_dict = {}\n",
    "    dataset = VDAODataset(fold = fold, split = 0, type = 'test',\n",
    "                        alignment = 'elastic', transform = False)\n",
    "\n",
    "    dd = dataset.align_df\n",
    "    vid_list = dd.test_file.unique()\n",
    "\n",
    "    for vid in vid_list:\n",
    "        idxs = list(dd[dd.test_file==vid].index)\n",
    "        arr = [cv2.imread(os.path.join(img_dir, '{0}.png'.format(ii)))[:,:,0] \n",
    "               for ii in idxs]\n",
    "        temp_dict[int(vid)] = np.array(arr).astype('uint8')\n",
    "        \n",
    "    # Saving progress\n",
    "    res_dict = pickle.load(open(os.path.join(RESULT_DIR, 'test_results',\n",
    "                                            'MCBS_RRF.pkl'),'rb'))\n",
    "    res_dict[int(fold)] = temp_dict\n",
    "    pickle.dump(res_dict, open(os.path.join(RESULT_DIR, 'test_results',\n",
    "                                            'MCBS_RRF.pkl'), 'wb'))    "
   ]
  },
  {
   "cell_type": "markdown",
   "metadata": {},
   "source": []
  }
 ],
 "metadata": {
  "kernelspec": {
   "display_name": "Python 3.10.6 ('pixel_env')",
   "language": "python",
   "name": "python3"
  },
  "language_info": {
   "codemirror_mode": {
    "name": "ipython",
    "version": 3
   },
   "file_extension": ".py",
   "mimetype": "text/x-python",
   "name": "python",
   "nbconvert_exporter": "python",
   "pygments_lexer": "ipython3",
   "version": "3.10.6"
  },
  "orig_nbformat": 4,
  "vscode": {
   "interpreter": {
    "hash": "3fe4b717e41534989dd514def504f4e45872ef3d1cf72d7948bd023446991b72"
   }
  }
 },
 "nbformat": 4,
 "nbformat_minor": 2
}
