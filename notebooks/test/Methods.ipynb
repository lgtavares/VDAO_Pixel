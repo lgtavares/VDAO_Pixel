{
 "cells": [
  {
   "cell_type": "code",
   "execution_count": 67,
   "metadata": {},
   "outputs": [],
   "source": [
    "import pickle\n",
    "import os\n",
    "import cv2\n",
    "import numpy as np\n",
    "from src.dataset import VDAODataset\n",
    "from src import RESULT_DIR\n",
    "from src.utils import MCC, DIS, conf_mat\n",
    "import matplotlib.pyplot as plt\n",
    "import pandas as pd\n",
    "\n"
   ]
  },
  {
   "cell_type": "markdown",
   "metadata": {},
   "source": [
    "### Creating Silhouette test file"
   ]
  },
  {
   "cell_type": "code",
   "execution_count": 5,
   "metadata": {},
   "outputs": [],
   "source": [
    "result_dict = {}\n",
    "pickle.dump(result_dict, open(os.path.join(RESULT_DIR,'silhouette.pkl'), 'wb'))"
   ]
  },
  {
   "cell_type": "code",
   "execution_count": 6,
   "metadata": {},
   "outputs": [
    {
     "name": "stdout",
     "output_type": "stream",
     "text": [
      "9\r"
     ]
    }
   ],
   "source": [
    "for fold in range(1,10):\n",
    "    print(fold, end='\\r')\n",
    "    temp_dict = {}\n",
    "    dataset = VDAODataset(fold = fold, split = 0, type = 'test',\n",
    "                        alignment = 'elastic', transform = False)\n",
    "\n",
    "    dd = dataset.align_df\n",
    "    vid_list = dd.test_file.unique()\n",
    "\n",
    "    for vid in vid_list:\n",
    "        idxs = list(dd[dd.test_file==vid].index)\n",
    "        arr = np.array([dataset.__getitem__(ii)[2] for ii in idxs])\n",
    "        arr[arr == 0.5] = 127\n",
    "        arr[arr == 1] = 255\n",
    "        temp_dict[int(vid)] = arr.astype('uint8')\n",
    "        \n",
    "    res_dict = pickle.load(open(os.path.join(RESULT_DIR,\n",
    "                                             'silhouette.pkl'),'rb'))\n",
    "    res_dict[int(fold)] = temp_dict\n",
    "    pickle.dump(res_dict, open(os.path.join(RESULT_DIR,\n",
    "                                            'silhouette.pkl'), 'wb'))"
   ]
  },
  {
   "cell_type": "markdown",
   "metadata": {},
   "source": [
    "### Creating MCBS test file"
   ]
  },
  {
   "cell_type": "code",
   "execution_count": 24,
   "metadata": {},
   "outputs": [
    {
     "name": "stdout",
     "output_type": "stream",
     "text": [
      "9\r"
     ]
    }
   ],
   "source": [
    "base_dir =  '/nfs/proc/luiz.tavares/other_methods/MCBS/'\n",
    "res_dict = {}\n",
    "pickle.dump(res_dict, open(os.path.join(RESULT_DIR, 'test_results',\n",
    "                                           'MCBS_Both.pkl'), 'wb'))\n",
    "\n",
    "for fold in range(1,10):\n",
    "\n",
    "    print(fold, end='\\r')\n",
    "    img_dir = os.path.join(base_dir,'fold{0:02d}/Both'.format(fold))\n",
    "\n",
    "    temp_dict = {}\n",
    "    dataset = VDAODataset(fold = fold, split = 0, type = 'test',\n",
    "                         alignment = 'elastic', transform = False)\n",
    "\n",
    "    dd = dataset.align_df\n",
    "    vid_list = dd.test_file.unique()\n",
    "\n",
    "    for vid in vid_list:\n",
    "        idxs = list(dd[dd.test_file==vid].index)\n",
    "        arr = [cv2.imread(os.path.join(img_dir, '{0}.png'.format(ii)))[:,:,0] \n",
    "               for ii in idxs]\n",
    "        temp_dict[int(vid)] = np.array(arr).astype('uint8')\n",
    "        \n",
    "    # Saving progress\n",
    "    res_dict = pickle.load(open(os.path.join(RESULT_DIR, 'test_results',\n",
    "                                            'MCBS_Both.pkl'),'rb'))\n",
    "    res_dict[int(fold)] = temp_dict\n",
    "    pickle.dump(res_dict, open(os.path.join(RESULT_DIR, 'test_results',\n",
    "                                            'MCBS_Both.pkl'), 'wb'))    "
   ]
  },
  {
   "cell_type": "code",
   "execution_count": 28,
   "metadata": {},
   "outputs": [
    {
     "name": "stdout",
     "output_type": "stream",
     "text": [
      "9\r"
     ]
    }
   ],
   "source": [
    "base_dir =  '/nfs/proc/luiz.tavares/other_methods/MCBS/'\n",
    "res_dict = {}\n",
    "pickle.dump(res_dict, open(os.path.join(RESULT_DIR, 'test_results',\n",
    "                                           'MCBS_NVD.pkl'), 'wb'))\n",
    "\n",
    "for fold in range(1,10):\n",
    "\n",
    "    print(fold, end='\\r')\n",
    "    img_dir = os.path.join(base_dir,'fold{0:02d}/NVD'.format(fold))\n",
    "\n",
    "    temp_dict = {}\n",
    "    dataset = VDAODataset(fold = fold, split = 0, type = 'test',\n",
    "                        alignment = 'elastic', transform = False)\n",
    "\n",
    "    dd = dataset.align_df\n",
    "    vid_list = dd.test_file.unique()\n",
    "\n",
    "    for vid in vid_list:\n",
    "        idxs = list(dd[dd.test_file==vid].index)\n",
    "        arr = [cv2.imread(os.path.join(img_dir, '{0}.png'.format(ii)))[:,:,0] \n",
    "               for ii in idxs]\n",
    "        temp_dict[int(vid)] = np.array(arr).astype('uint8')\n",
    "        \n",
    "    # Saving progress\n",
    "    res_dict = pickle.load(open(os.path.join(RESULT_DIR, 'test_results',\n",
    "                                            'MCBS_NVD.pkl'),'rb'))\n",
    "    res_dict[int(fold)] = temp_dict\n",
    "    pickle.dump(res_dict, open(os.path.join(RESULT_DIR, 'test_results',\n",
    "                                            'MCBS_NVD.pkl'), 'wb'))    "
   ]
  },
  {
   "cell_type": "code",
   "execution_count": 27,
   "metadata": {},
   "outputs": [
    {
     "name": "stdout",
     "output_type": "stream",
     "text": [
      "9\r"
     ]
    }
   ],
   "source": [
    "base_dir =  '/nfs/proc/luiz.tavares/other_methods/MCBS/'\n",
    "res_dict = {}\n",
    "pickle.dump(res_dict, open(os.path.join(RESULT_DIR, 'test_results',\n",
    "                                           'MCBS_RRF.pkl'), 'wb'))\n",
    "\n",
    "for fold in range(1,10):\n",
    "\n",
    "    print(fold, end='\\r')\n",
    "    img_dir = os.path.join(base_dir,'fold{0:02d}/RRF'.format(fold))\n",
    "\n",
    "    temp_dict = {}\n",
    "    dataset = VDAODataset(fold = fold, split = 0, type = 'test',\n",
    "                        alignment = 'elastic', transform = False)\n",
    "\n",
    "    dd = dataset.align_df\n",
    "    vid_list = dd.test_file.unique()\n",
    "\n",
    "    for vid in vid_list:\n",
    "        idxs = list(dd[dd.test_file==vid].index)\n",
    "        arr = [cv2.imread(os.path.join(img_dir, '{0}.png'.format(ii)))[:,:,0] \n",
    "               for ii in idxs]\n",
    "        temp_dict[int(vid)] = np.array(arr).astype('uint8')\n",
    "        \n",
    "    # Saving progress\n",
    "    res_dict = pickle.load(open(os.path.join(RESULT_DIR, 'test_results',\n",
    "                                            'MCBS_RRF.pkl'),'rb'))\n",
    "    res_dict[int(fold)] = temp_dict\n",
    "    pickle.dump(res_dict, open(os.path.join(RESULT_DIR, 'test_results',\n",
    "                                            'MCBS_RRF.pkl'), 'wb'))    "
   ]
  },
  {
   "attachments": {},
   "cell_type": "markdown",
   "metadata": {},
   "source": [
    "### Creating mcDTSR test file"
   ]
  },
  {
   "cell_type": "code",
   "execution_count": 63,
   "metadata": {},
   "outputs": [
    {
     "name": "stdout",
     "output_type": "stream",
     "text": [
      "9\r"
     ]
    }
   ],
   "source": [
    "base_dir =  '/nfs/proc/luiz.tavares/other_methods/mcDTSR/'\n",
    "modes = ['', 'e']\n",
    "for mm in modes:\n",
    "    res_dict = {}\n",
    "    pickle.dump(res_dict, open(os.path.join(RESULT_DIR, 'test_results',\n",
    "                                            'mcDTSR{0}.pkl'.format(mm)), 'wb'))\n",
    "    for fold in range(1,10):\n",
    "\n",
    "        print(fold, end='\\r')\n",
    "        temp_dict = {}\n",
    "        dataset = VDAODataset(fold = fold, split = 0, type = 'test',\n",
    "                            alignment = 'elastic', transform = False)\n",
    "\n",
    "        dd = dataset.align_df\n",
    "        vid_list = dd.test_file.unique()\n",
    "\n",
    "        for vid in vid_list:\n",
    "            img_dir = os.path.join(base_dir,'{0:02d}'.format(int(vid)))\n",
    "            idxs = list(range(1,201))\n",
    "            arr = [cv2.imread(os.path.join(img_dir, '{1}{0}.png'.format(ii, mm)))[:,:,0] \n",
    "                for ii in idxs]\n",
    "            arr += arr[199]\n",
    "            temp_dict[int(vid)] = np.array(arr).astype('uint8')\n",
    "            \n",
    "        # Saving progress\n",
    "        res_dict = pickle.load(open(os.path.join(RESULT_DIR, 'test_results',\n",
    "                                                'mcDTSR{0}.pkl'.format(mm)),'rb'))\n",
    "        res_dict[int(fold)] = temp_dict\n",
    "        pickle.dump(res_dict, open(os.path.join(RESULT_DIR, 'test_results',\n",
    "                                                'mcDTSR{0}.pkl'.format(mm)), 'wb'))   \n"
   ]
  },
  {
   "attachments": {},
   "cell_type": "markdown",
   "metadata": {},
   "source": [
    "### RESULTS"
   ]
  },
  {
   "cell_type": "code",
   "execution_count": 64,
   "metadata": {},
   "outputs": [],
   "source": [
    "sil_dict = pickle.load(open(os.path.join(RESULT_DIR, 'test_results',\n",
    "                                        'silhouette.pkl'),'rb'))\n",
    "subsample = {'mcDTSR':4,'mcDTSRe':4, 'MCBS_Both':4, 'MCBS_RRF':4}\n",
    "results = {'mcDTSR':{}, 'mcDTSRe':{}, 'MCBS_Both':{}, 'MCBS_RRF':{}}\n",
    "\n"
   ]
  },
  {
   "cell_type": "code",
   "execution_count": 65,
   "metadata": {},
   "outputs": [],
   "source": [
    "method = 'mcDTSR'\n",
    "res_dict = pickle.load(open(os.path.join(RESULT_DIR, 'test_results',\n",
    "                                        '{0}.pkl'.format(method)),'rb'))"
   ]
  },
  {
   "cell_type": "code",
   "execution_count": 69,
   "metadata": {},
   "outputs": [
    {
     "data": {
      "text/html": [
       "<div>\n",
       "<style scoped>\n",
       "    .dataframe tbody tr th:only-of-type {\n",
       "        vertical-align: middle;\n",
       "    }\n",
       "\n",
       "    .dataframe tbody tr th {\n",
       "        vertical-align: top;\n",
       "    }\n",
       "\n",
       "    .dataframe thead th {\n",
       "        text-align: right;\n",
       "    }\n",
       "</style>\n",
       "<table border=\"1\" class=\"dataframe\">\n",
       "  <thead>\n",
       "    <tr style=\"text-align: right;\">\n",
       "      <th></th>\n",
       "      <th>dis</th>\n",
       "    </tr>\n",
       "  </thead>\n",
       "  <tbody>\n",
       "    <tr>\n",
       "      <th>1</th>\n",
       "      <td>0.407205</td>\n",
       "    </tr>\n",
       "    <tr>\n",
       "      <th>2</th>\n",
       "      <td>0.898602</td>\n",
       "    </tr>\n",
       "    <tr>\n",
       "      <th>3</th>\n",
       "      <td>0.436207</td>\n",
       "    </tr>\n",
       "    <tr>\n",
       "      <th>4</th>\n",
       "      <td>0.531428</td>\n",
       "    </tr>\n",
       "    <tr>\n",
       "      <th>5</th>\n",
       "      <td>0.526807</td>\n",
       "    </tr>\n",
       "    <tr>\n",
       "      <th>6</th>\n",
       "      <td>0.288990</td>\n",
       "    </tr>\n",
       "    <tr>\n",
       "      <th>7</th>\n",
       "      <td>0.405474</td>\n",
       "    </tr>\n",
       "    <tr>\n",
       "      <th>8</th>\n",
       "      <td>0.797339</td>\n",
       "    </tr>\n",
       "    <tr>\n",
       "      <th>9</th>\n",
       "      <td>0.254317</td>\n",
       "    </tr>\n",
       "    <tr>\n",
       "      <th>10</th>\n",
       "      <td>0.343263</td>\n",
       "    </tr>\n",
       "    <tr>\n",
       "      <th>11</th>\n",
       "      <td>0.651431</td>\n",
       "    </tr>\n",
       "    <tr>\n",
       "      <th>12</th>\n",
       "      <td>0.904996</td>\n",
       "    </tr>\n",
       "    <tr>\n",
       "      <th>13</th>\n",
       "      <td>0.865146</td>\n",
       "    </tr>\n",
       "    <tr>\n",
       "      <th>14</th>\n",
       "      <td>0.827724</td>\n",
       "    </tr>\n",
       "    <tr>\n",
       "      <th>15</th>\n",
       "      <td>0.344927</td>\n",
       "    </tr>\n",
       "    <tr>\n",
       "      <th>16</th>\n",
       "      <td>1.079812</td>\n",
       "    </tr>\n",
       "    <tr>\n",
       "      <th>17</th>\n",
       "      <td>0.480529</td>\n",
       "    </tr>\n",
       "    <tr>\n",
       "      <th>18</th>\n",
       "      <td>0.510205</td>\n",
       "    </tr>\n",
       "    <tr>\n",
       "      <th>19</th>\n",
       "      <td>0.808552</td>\n",
       "    </tr>\n",
       "    <tr>\n",
       "      <th>20</th>\n",
       "      <td>0.826994</td>\n",
       "    </tr>\n",
       "    <tr>\n",
       "      <th>21</th>\n",
       "      <td>0.503986</td>\n",
       "    </tr>\n",
       "    <tr>\n",
       "      <th>22</th>\n",
       "      <td>0.829800</td>\n",
       "    </tr>\n",
       "    <tr>\n",
       "      <th>23</th>\n",
       "      <td>0.801319</td>\n",
       "    </tr>\n",
       "    <tr>\n",
       "      <th>24</th>\n",
       "      <td>0.619464</td>\n",
       "    </tr>\n",
       "    <tr>\n",
       "      <th>25</th>\n",
       "      <td>1.006541</td>\n",
       "    </tr>\n",
       "    <tr>\n",
       "      <th>26</th>\n",
       "      <td>0.905963</td>\n",
       "    </tr>\n",
       "    <tr>\n",
       "      <th>27</th>\n",
       "      <td>0.864981</td>\n",
       "    </tr>\n",
       "    <tr>\n",
       "      <th>28</th>\n",
       "      <td>0.919388</td>\n",
       "    </tr>\n",
       "    <tr>\n",
       "      <th>29</th>\n",
       "      <td>1.044574</td>\n",
       "    </tr>\n",
       "    <tr>\n",
       "      <th>30</th>\n",
       "      <td>0.351380</td>\n",
       "    </tr>\n",
       "    <tr>\n",
       "      <th>31</th>\n",
       "      <td>0.883128</td>\n",
       "    </tr>\n",
       "    <tr>\n",
       "      <th>32</th>\n",
       "      <td>0.424166</td>\n",
       "    </tr>\n",
       "    <tr>\n",
       "      <th>33</th>\n",
       "      <td>0.309436</td>\n",
       "    </tr>\n",
       "    <tr>\n",
       "      <th>34</th>\n",
       "      <td>0.901170</td>\n",
       "    </tr>\n",
       "    <tr>\n",
       "      <th>35</th>\n",
       "      <td>0.680788</td>\n",
       "    </tr>\n",
       "    <tr>\n",
       "      <th>36</th>\n",
       "      <td>0.337208</td>\n",
       "    </tr>\n",
       "    <tr>\n",
       "      <th>37</th>\n",
       "      <td>0.841867</td>\n",
       "    </tr>\n",
       "    <tr>\n",
       "      <th>38</th>\n",
       "      <td>0.838994</td>\n",
       "    </tr>\n",
       "    <tr>\n",
       "      <th>39</th>\n",
       "      <td>0.753404</td>\n",
       "    </tr>\n",
       "    <tr>\n",
       "      <th>40</th>\n",
       "      <td>0.688885</td>\n",
       "    </tr>\n",
       "    <tr>\n",
       "      <th>41</th>\n",
       "      <td>0.920139</td>\n",
       "    </tr>\n",
       "    <tr>\n",
       "      <th>42</th>\n",
       "      <td>0.259465</td>\n",
       "    </tr>\n",
       "    <tr>\n",
       "      <th>43</th>\n",
       "      <td>1.032890</td>\n",
       "    </tr>\n",
       "    <tr>\n",
       "      <th>44</th>\n",
       "      <td>0.504879</td>\n",
       "    </tr>\n",
       "    <tr>\n",
       "      <th>45</th>\n",
       "      <td>0.818356</td>\n",
       "    </tr>\n",
       "    <tr>\n",
       "      <th>46</th>\n",
       "      <td>0.947259</td>\n",
       "    </tr>\n",
       "    <tr>\n",
       "      <th>47</th>\n",
       "      <td>0.811255</td>\n",
       "    </tr>\n",
       "    <tr>\n",
       "      <th>48</th>\n",
       "      <td>0.376023</td>\n",
       "    </tr>\n",
       "    <tr>\n",
       "      <th>49</th>\n",
       "      <td>0.402325</td>\n",
       "    </tr>\n",
       "    <tr>\n",
       "      <th>50</th>\n",
       "      <td>0.608037</td>\n",
       "    </tr>\n",
       "    <tr>\n",
       "      <th>51</th>\n",
       "      <td>0.808258</td>\n",
       "    </tr>\n",
       "    <tr>\n",
       "      <th>52</th>\n",
       "      <td>0.688484</td>\n",
       "    </tr>\n",
       "    <tr>\n",
       "      <th>53</th>\n",
       "      <td>0.993911</td>\n",
       "    </tr>\n",
       "    <tr>\n",
       "      <th>54</th>\n",
       "      <td>0.862986</td>\n",
       "    </tr>\n",
       "    <tr>\n",
       "      <th>55</th>\n",
       "      <td>1.005003</td>\n",
       "    </tr>\n",
       "    <tr>\n",
       "      <th>56</th>\n",
       "      <td>1.012568</td>\n",
       "    </tr>\n",
       "    <tr>\n",
       "      <th>57</th>\n",
       "      <td>0.528610</td>\n",
       "    </tr>\n",
       "    <tr>\n",
       "      <th>58</th>\n",
       "      <td>0.466878</td>\n",
       "    </tr>\n",
       "    <tr>\n",
       "      <th>59</th>\n",
       "      <td>0.918260</td>\n",
       "    </tr>\n",
       "  </tbody>\n",
       "</table>\n",
       "</div>"
      ],
      "text/plain": [
       "         dis\n",
       "1   0.407205\n",
       "2   0.898602\n",
       "3   0.436207\n",
       "4   0.531428\n",
       "5   0.526807\n",
       "6   0.288990\n",
       "7   0.405474\n",
       "8   0.797339\n",
       "9   0.254317\n",
       "10  0.343263\n",
       "11  0.651431\n",
       "12  0.904996\n",
       "13  0.865146\n",
       "14  0.827724\n",
       "15  0.344927\n",
       "16  1.079812\n",
       "17  0.480529\n",
       "18  0.510205\n",
       "19  0.808552\n",
       "20  0.826994\n",
       "21  0.503986\n",
       "22  0.829800\n",
       "23  0.801319\n",
       "24  0.619464\n",
       "25  1.006541\n",
       "26  0.905963\n",
       "27  0.864981\n",
       "28  0.919388\n",
       "29  1.044574\n",
       "30  0.351380\n",
       "31  0.883128\n",
       "32  0.424166\n",
       "33  0.309436\n",
       "34  0.901170\n",
       "35  0.680788\n",
       "36  0.337208\n",
       "37  0.841867\n",
       "38  0.838994\n",
       "39  0.753404\n",
       "40  0.688885\n",
       "41  0.920139\n",
       "42  0.259465\n",
       "43  1.032890\n",
       "44  0.504879\n",
       "45  0.818356\n",
       "46  0.947259\n",
       "47  0.811255\n",
       "48  0.376023\n",
       "49  0.402325\n",
       "50  0.608037\n",
       "51  0.808258\n",
       "52  0.688484\n",
       "53  0.993911\n",
       "54  0.862986\n",
       "55  1.005003\n",
       "56  1.012568\n",
       "57  0.528610\n",
       "58  0.466878\n",
       "59  0.918260"
      ]
     },
     "execution_count": 69,
     "metadata": {},
     "output_type": "execute_result"
    }
   ],
   "source": [
    "for fold in range(1,10):\n",
    "    vids = list(sil_dict[fold].keys())\n",
    "    for vid in vids:\n",
    "\n",
    "        output_arr     = res_dict[fold][vid]\n",
    "        silhouette_arr = sil_dict[fold][vid][:200,::subsample[method],::subsample[method]]\n",
    "\n",
    "        silhouette = silhouette_arr.flatten()\n",
    "        output = output_arr.flatten()\n",
    "\n",
    "        output = output[silhouette != 127]\n",
    "        silhouette = silhouette[silhouette != 127]\n",
    "\n",
    "        tn, fp, fn, tp = conf_mat(silhouette.flatten()//128, output.flatten()//128).ravel()    \n",
    "        mcc = DIS(tn, fp, fn, tp)\n",
    "        results[method][vid] = mcc\n",
    "res_df = pd.DataFrame.from_dict(results[method],\n",
    "                 orient='index', columns=['dis']).sort_index(ascending=True)\n",
    "res_df"
   ]
  },
  {
   "cell_type": "code",
   "execution_count": 59,
   "metadata": {},
   "outputs": [
    {
     "data": {
      "text/plain": [
       "(201, 648, 1152)"
      ]
     },
     "execution_count": 59,
     "metadata": {},
     "output_type": "execute_result"
    }
   ],
   "source": [
    "output_arr.shape"
   ]
  },
  {
   "cell_type": "code",
   "execution_count": 52,
   "metadata": {},
   "outputs": [
    {
     "data": {
      "text/plain": [
       "(200, 180, 320)"
      ]
     },
     "execution_count": 52,
     "metadata": {},
     "output_type": "execute_result"
    }
   ],
   "source": [
    "silhouette_arr.shape"
   ]
  },
  {
   "cell_type": "code",
   "execution_count": 23,
   "metadata": {},
   "outputs": [
    {
     "data": {
      "text/plain": [
       "(201, 720, 1280)"
      ]
     },
     "execution_count": 23,
     "metadata": {},
     "output_type": "execute_result"
    }
   ],
   "source": [
    "sil_dict[fold][vid].shape"
   ]
  },
  {
   "cell_type": "code",
   "execution_count": 10,
   "metadata": {},
   "outputs": [],
   "source": [
    "base_dir =  '/nfs/proc/luiz.tavares/other_methods/mcDTSR/'\n",
    "\n",
    "for folder in range(1,59):\n",
    "    \n",
    "    dir = os.path.join(base_dir, '{0:02d}'.format(folder))\n",
    "    \n",
    "    for i in range(1,201):\n",
    "        img = os.path.join(dir, '{0}.png'.format(i))\n",
    "        if not os.path.isfile(img):\n",
    "            print('Video {0:02d} - Frame {1:03d}'.format(folder, i))\n",
    "            \n",
    "    for i in range(1,201):\n",
    "        img = os.path.join(dir, 'e{0}.png'.format(i))\n",
    "        if not os.path.isfile(img):\n",
    "            print('Video {0:02d} - Frame e{1:03d}'.format(folder, i))\n"
   ]
  },
  {
   "cell_type": "markdown",
   "metadata": {},
   "source": []
  }
 ],
 "metadata": {
  "kernelspec": {
   "display_name": "Python 3.10.6 ('pixel_env')",
   "language": "python",
   "name": "python3"
  },
  "language_info": {
   "codemirror_mode": {
    "name": "ipython",
    "version": 3
   },
   "file_extension": ".py",
   "mimetype": "text/x-python",
   "name": "python",
   "nbconvert_exporter": "python",
   "pygments_lexer": "ipython3",
   "version": "3.10.6 | packaged by conda-forge | (main, Aug 22 2022, 20:35:26) [GCC 10.4.0]"
  },
  "orig_nbformat": 4,
  "vscode": {
   "interpreter": {
    "hash": "3fe4b717e41534989dd514def504f4e45872ef3d1cf72d7948bd023446991b72"
   }
  }
 },
 "nbformat": 4,
 "nbformat_minor": 2
}
