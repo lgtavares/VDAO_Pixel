{
 "cells": [
  {
   "cell_type": "code",
   "execution_count": 1,
   "metadata": {},
   "outputs": [],
   "source": [
    "import os\n",
    "import numpy as np\n",
    "import pandas as pd\n",
    "\n",
    "from src import RESULT_DIR\n",
    "from src.utils import MCC, DIS"
   ]
  },
  {
   "cell_type": "code",
   "execution_count": 6,
   "metadata": {},
   "outputs": [],
   "source": [
    "classifier = 'RandomForest' # RandomForest, LightGBM\n",
    "alignment = 'warp' # geometric, temporal, warp"
   ]
  },
  {
   "cell_type": "code",
   "execution_count": 7,
   "metadata": {},
   "outputs": [],
   "source": [
    "if classifier == 'LightGBM': \n",
    "        cols = ['fold_num', 'trial', 'split_num', 'num_leaves', \n",
    "                'min_child_samples', 'threshold', 'num_trees', \n",
    "                'tn', 'fp', 'fn', 'tp','time']\n",
    "        cc = ['fold_num', 'trial', 'num_leaves', 'min_child_samples', \n",
    "              'threshold']\n",
    "        \n",
    "elif classifier == 'RandomForest': \n",
    "        cols = ['num_fold', 'step', 'num_split', 'trees', \n",
    "                'max_depth', 'threshold',  \n",
    "                'tn', 'fp', 'fn', 'tp','time']\n",
    "        cc = ['num_fold', 'step', 'trees', 'max_depth', \n",
    "              'threshold']"
   ]
  },
  {
   "cell_type": "code",
   "execution_count": 8,
   "metadata": {},
   "outputs": [
    {
     "name": "stdout",
     "output_type": "stream",
     "text": [
      "Fold 1:  300 iterations - max it. = 282, max.MCC = 0.7035  [200  60  40.0000]\n",
      "Fold 2:  300 iterations - max it. = 297, max.MCC = 0.7164  [200  60  39.0000]\n",
      "Fold 3:  300 iterations - max it. = 109, max.MCC = 0.6913  [200  44  38.0000]\n",
      "Fold 4:  300 iterations - max it. = 197, max.MCC = 0.7297  [200  55  40.0000]\n",
      "Fold 5:  300 iterations - max it. = 232, max.MCC = 0.6958  [195  52  42.0000]\n",
      "Fold 6:  300 iterations - max it. = 40, max.MCC = 0.7280  [200  54  41.0000]\n",
      "Fold 7:  300 iterations - max it. = 271, max.MCC = 0.7484  [200  65  41.0000]\n",
      "Fold 8:  300 iterations - max it. = 97, max.MCC = 0.7112  [199  72  40.0000]\n",
      "Fold 9:  300 iterations - max it. = 150, max.MCC = 0.7140  [200  54  40.0000]\n"
     ]
    }
   ],
   "source": [
    "res_dir = os.path.join(RESULT_DIR, classifier, alignment, 'classification')\n",
    "res_df = {}\n",
    "res_mcc = []\n",
    "for fold in range(1,10):\n",
    "    csv_dir = os.path.join(res_dir, 'results_fold{0:02d}.csv'.format(fold))\n",
    "    dd = pd.read_csv(csv_dir, index_col=0)\n",
    "    dd = dd[cols]\n",
    "    dd.reset_index(drop=True, inplace=True)\n",
    "    #dd['trial'] = np.repeat(list(range(int(dd.shape[0] / 8))),8).astype(int)\n",
    "    dd = dd.groupby(cc).aggregate({\n",
    "                    'tn':np.sum,'fp':np.sum,'fn':np.sum,\n",
    "                    'tp':np.sum,'time':np.average}).reset_index()\n",
    "    dd['MCC'] = dd.apply(lambda x: MCC(x['tn'],x['fp'],x['fn'],x['tp']), axis=1)\n",
    "    dd_max = dd.loc[dd['MCC'] == dd['MCC'].max(), :]\n",
    "    #res_df[fold] = {'num_leaves':dd_max['num_leaves'].values[0], 'min_child_samples':dd_max['min_child_samples'].values[0], 'threshold':dd_max['threshold'].values[0]}\n",
    "    print('Fold {0}:  {1:>3} iterations - max it. = {6}, max.MCC = {2:.4f}  [{3}  {4}  {5:0.4f}]'.format(fold,dd[cc[1]].max()+1,dd['MCC'].max(),\n",
    "                                                                                                         dd_max[cc[2]].values[0],\n",
    "                                                                                                         dd_max[cc[3]].values[0],\n",
    "                                                                                                         dd_max['threshold'].values[0],\n",
    "                                                                                                         dd_max[cc[1]].values[0]))\n",
    "    #res_mcc.append(dd['MCC'].max())\n"
   ]
  },
  {
   "cell_type": "code",
   "execution_count": null,
   "metadata": {},
   "outputs": [],
   "source": []
  }
 ],
 "metadata": {
  "kernelspec": {
   "display_name": "Python 3.10.6 ('pixel_env')",
   "language": "python",
   "name": "python3"
  },
  "language_info": {
   "codemirror_mode": {
    "name": "ipython",
    "version": 3
   },
   "file_extension": ".py",
   "mimetype": "text/x-python",
   "name": "python",
   "nbconvert_exporter": "python",
   "pygments_lexer": "ipython3",
   "version": "3.10.6"
  },
  "orig_nbformat": 4,
  "vscode": {
   "interpreter": {
    "hash": "3fe4b717e41534989dd514def504f4e45872ef3d1cf72d7948bd023446991b72"
   }
  }
 },
 "nbformat": 4,
 "nbformat_minor": 2
}
