{
 "cells": [
  {
   "cell_type": "code",
   "execution_count": 1,
   "metadata": {},
   "outputs": [],
   "source": [
    "import os\n",
    "import numpy as np\n",
    "import pandas as pd\n",
    "\n",
    "from src import RESULT_DIR\n",
    "from src.utils import MCC, DIS"
   ]
  },
  {
   "cell_type": "code",
   "execution_count": 2,
   "metadata": {},
   "outputs": [],
   "source": [
    "classifier = 'RandomForest' # RandomForest, LightGBM\n",
    "alignment = 'temporal' # geometric, temporal, warp"
   ]
  },
  {
   "cell_type": "code",
   "execution_count": 3,
   "metadata": {},
   "outputs": [],
   "source": [
    "if classifier == 'LightGBM': \n",
    "        cols = ['fold_num', 'trial', 'split_num', 'num_leaves', \n",
    "                'min_child_samples', 'threshold', 'num_trees', \n",
    "                'tn', 'fp', 'fn', 'tp','time']\n",
    "        cc = ['fold_num', 'trial', 'num_leaves', 'min_child_samples', \n",
    "              'threshold']\n",
    "        \n",
    "elif classifier == 'RandomForest': \n",
    "        cols = ['num_fold', 'step', 'num_split', 'trees', \n",
    "                'max_depth', 'threshold',  \n",
    "                'tn', 'fp', 'fn', 'tp','time']\n",
    "        cc = ['num_fold', 'step', 'trees', 'max_depth', \n",
    "              'threshold']"
   ]
  },
  {
   "cell_type": "code",
   "execution_count": 5,
   "metadata": {},
   "outputs": [
    {
     "name": "stdout",
     "output_type": "stream",
     "text": [
      "Fold 1:  300 iterations - max it. = 120, max.MCC = 0.7272  [200  46  38.0000]\n",
      "Fold 2:  272 iterations - max it. = 143, max.MCC = 0.7370  [200  44  38.0000]\n",
      "Fold 3:   26 iterations - max it. = 18, max.MCC = 0.7259  [200  84  37.0000]\n",
      "Fold 4:   97 iterations - max it. = 81, max.MCC = 0.7517  [180  51  40.0000]\n",
      "Fold 5:   28 iterations - max it. = 20, max.MCC = 0.7196  [200  165  40.0000]\n"
     ]
    }
   ],
   "source": [
    "res_dir = os.path.join(RESULT_DIR, classifier, alignment, 'classification')\n",
    "res_df = {}\n",
    "res_mcc = []\n",
    "for fold in range(1,6):\n",
    "    csv_dir = os.path.join(res_dir, 'results_fold{0:02d}.csv'.format(fold))\n",
    "    dd = pd.read_csv(csv_dir, index_col=0)\n",
    "    dd = dd[cols]\n",
    "    dd.reset_index(drop=True, inplace=True)\n",
    "    #dd['trial'] = np.repeat(list(range(int(dd.shape[0] / 8))),8).astype(int)\n",
    "    dd = dd.groupby(cc).aggregate({\n",
    "                    'tn':np.sum,'fp':np.sum,'fn':np.sum,\n",
    "                    'tp':np.sum,'time':np.average}).reset_index()\n",
    "    dd['MCC'] = dd.apply(lambda x: MCC(x['tn'],x['fp'],x['fn'],x['tp']), axis=1)\n",
    "    dd_max = dd.loc[dd['MCC'] == dd['MCC'].max(), :]\n",
    "    #res_df[fold] = {'num_leaves':dd_max['num_leaves'].values[0], 'min_child_samples':dd_max['min_child_samples'].values[0], 'threshold':dd_max['threshold'].values[0]}\n",
    "    print('Fold {0}:  {1:>3} iterations - max it. = {6}, max.MCC = {2:.4f}  [{3}  {4}  {5:0.4f}]'.format(fold,dd[cc[1]].max()+1,dd['MCC'].max(),\n",
    "                                                                                                         dd_max[cc[2]].values[0],\n",
    "                                                                                                         dd_max[cc[3]].values[0],\n",
    "                                                                                                         dd_max['threshold'].values[0],\n",
    "                                                                                                         dd_max[cc[1]].values[0]))\n",
    "    #res_mcc.append(dd['MCC'].max())\n"
   ]
  },
  {
   "cell_type": "code",
   "execution_count": null,
   "metadata": {},
   "outputs": [],
   "source": [
    "Fold 1:  300 iterations - max it. = 120, max.MCC = 0.7272  [200  46  38.0000]\n",
    "Fold 2:  272 iterations - max it. = 143, max.MCC = 0.7370  [200  44  38.0000]\n",
    "Fold 3:   26 iterations - max it. = 18, max.MCC = 0.7259  [200  84  37.0000]\n",
    "Fold 4:   71 iterations - max it. = 50, max.MCC = 0.7513  [200  148  39.0000]\n",
    "Fold 5:   22 iterations - max it. = 20, max.MCC = 0.7196  [200  165  40.0000]"
   ]
  },
  {
   "cell_type": "code",
   "execution_count": 11,
   "metadata": {},
   "outputs": [
    {
     "name": "stdout",
     "output_type": "stream",
     "text": [
      "\\textbf{1} & 288 & 200 &  50 & 0.39 & 0.7263 & 0.2003 \\\\\n",
      "\\textbf{2} & 300 & 200 &  44 & 0.39 & 0.7331 & 0.1940 \\\\\n",
      "\\textbf{3} & 300 & 200 &  68 & 0.38 & 0.7244 & 0.2001 \\\\\n",
      "\\textbf{4} & 300 & 200 &  50 & 0.40 & 0.7527 & 0.1856 \\\\\n",
      "\\textbf{5} & 284 & 200 &  78 & 0.41 & 0.7178 & 0.2151 \\\\\n",
      "\\textbf{6} & 300 & 200 &  73 & 0.40 & 0.7459 & 0.1830 \\\\\n",
      "\\textbf{7} & 300 & 200 &  57 & 0.40 & 0.7739 & 0.1640 \\\\\n",
      "\\textbf{8} & 287 & 200 &  52 & 0.38 & 0.7380 & 0.1908 \\\\\n",
      "\\textbf{9} & 300 & 200 &  64 & 0.39 & 0.7330 & 0.1991 \\\\\n"
     ]
    }
   ],
   "source": [
    "res_dir = os.path.join(RESULT_DIR, classifier, alignment, 'classification')\n",
    "res_df = {}\n",
    "res_mcc = []\n",
    "for fold in range(1,10):\n",
    "    csv_dir = os.path.join(res_dir, 'results_fold{0:02d}.csv'.format(fold))\n",
    "    dd = pd.read_csv(csv_dir, index_col=0)\n",
    "    dd = dd[cols]\n",
    "    dd.reset_index(drop=True, inplace=True)\n",
    "    #dd['trial'] = np.repeat(list(range(int(dd.shape[0] / 8))),8).astype(int)\n",
    "    dd = dd.groupby(cc).aggregate({\n",
    "                    'tn':np.sum,'fp':np.sum,'fn':np.sum,\n",
    "                    'tp':np.sum,'time':np.average}).reset_index()\n",
    "    dd['MCC'] = dd.apply(lambda x: MCC(x['tn'],x['fp'],x['fn'],x['tp']), axis=1)\n",
    "    dd['DIS'] = dd.apply(lambda x: DIS(x['tn'],x['fp'],x['fn'],x['tp']), axis=1)\n",
    "    dd_max = dd.loc[dd['MCC'] == dd['MCC'].max(), :]\n",
    "    #res_df[fold] = {'num_leaves':dd_max['num_leaves'].values[0], 'min_child_samples':dd_max['min_child_samples'].values[0], 'threshold':dd_max['threshold'].values[0]}\n",
    "    print('\\\\textbf{{{0}}} & {1:>3} & {2:>3} & {3:>3} & {4:0.2f} & {5:0.4f} & {6:0.4f} \\\\\\\\'.format(fold,\n",
    "                                                                                            dd[cc[1]].max()+1,\n",
    "                                                                                            dd_max[cc[2]].values[0],\n",
    "                                                                                            dd_max[cc[3]].values[0],\n",
    "                                                                                            dd_max['threshold'].values[0]/100,\n",
    "                                                                                            dd_max['MCC'].values[0],\n",
    "                                                                                            dd_max['DIS'].values[0],\n",
    "                                                                                        ))"
   ]
  },
  {
   "cell_type": "code",
   "execution_count": 20,
   "metadata": {},
   "outputs": [
    {
     "data": {
      "text/html": [
       "<div>\n",
       "<style scoped>\n",
       "    .dataframe tbody tr th:only-of-type {\n",
       "        vertical-align: middle;\n",
       "    }\n",
       "\n",
       "    .dataframe tbody tr th {\n",
       "        vertical-align: top;\n",
       "    }\n",
       "\n",
       "    .dataframe thead th {\n",
       "        text-align: right;\n",
       "    }\n",
       "</style>\n",
       "<table border=\"1\" class=\"dataframe\">\n",
       "  <thead>\n",
       "    <tr style=\"text-align: right;\">\n",
       "      <th></th>\n",
       "      <th>num_fold</th>\n",
       "      <th>step</th>\n",
       "      <th>trees</th>\n",
       "      <th>max_depth</th>\n",
       "      <th>threshold</th>\n",
       "      <th>tn</th>\n",
       "      <th>fp</th>\n",
       "      <th>fn</th>\n",
       "      <th>tp</th>\n",
       "      <th>time</th>\n",
       "      <th>MCC</th>\n",
       "      <th>DIS</th>\n",
       "    </tr>\n",
       "  </thead>\n",
       "  <tbody>\n",
       "    <tr>\n",
       "      <th>60</th>\n",
       "      <td>9</td>\n",
       "      <td>60</td>\n",
       "      <td>200</td>\n",
       "      <td>182</td>\n",
       "      <td>38</td>\n",
       "      <td>1808346.0</td>\n",
       "      <td>209742.0</td>\n",
       "      <td>322750.0</td>\n",
       "      <td>1630487.0</td>\n",
       "      <td>2070.046468</td>\n",
       "      <td>0.732701</td>\n",
       "      <td>0.195206</td>\n",
       "    </tr>\n",
       "  </tbody>\n",
       "</table>\n",
       "</div>"
      ],
      "text/plain": [
       "    num_fold  step  trees  max_depth  threshold         tn        fp  \\\n",
       "60         9    60    200        182         38  1808346.0  209742.0   \n",
       "\n",
       "          fn         tp         time       MCC       DIS  \n",
       "60  322750.0  1630487.0  2070.046468  0.732701  0.195206  "
      ]
     },
     "execution_count": 20,
     "metadata": {},
     "output_type": "execute_result"
    }
   ],
   "source": [
    "dd_max"
   ]
  }
 ],
 "metadata": {
  "kernelspec": {
   "display_name": "pixel_env",
   "language": "python",
   "name": "python3"
  },
  "language_info": {
   "codemirror_mode": {
    "name": "ipython",
    "version": 3
   },
   "file_extension": ".py",
   "mimetype": "text/x-python",
   "name": "python",
   "nbconvert_exporter": "python",
   "pygments_lexer": "ipython3",
   "version": "3.10.6"
  },
  "orig_nbformat": 4,
  "vscode": {
   "interpreter": {
    "hash": "3fe4b717e41534989dd514def504f4e45872ef3d1cf72d7948bd023446991b72"
   }
  }
 },
 "nbformat": 4,
 "nbformat_minor": 2
}
