{
 "cells": [
  {
   "cell_type": "code",
   "execution_count": 4,
   "metadata": {},
   "outputs": [
    {
     "name": "stdout",
     "output_type": "stream",
     "text": [
      "The autoreload extension is already loaded. To reload it, use:\n",
      "  %reload_ext autoreload\n"
     ]
    }
   ],
   "source": [
    "%load_ext autoreload\n",
    "%autoreload 2\n",
    "\n",
    "import time\n",
    "import os\n",
    "import numpy as np\n",
    "import pandas as pd\n",
    "\n",
    "from src import FEATURE_DIR, RESULT_DIR\n",
    "from src.utils import DIS, MCC, conf_mat, create_dir\n",
    "from src.config import fold_split\n",
    "\n",
    "from sklearn.ensemble import RandomForestClassifier\n",
    "\n",
    "\n",
    "TRN_FEAT_DIR = os.path.join(FEATURE_DIR, 'warp', 'training')\n",
    "\n",
    "fold = 1\n",
    "split = 1\n"
   ]
  },
  {
   "cell_type": "code",
   "execution_count": 7,
   "metadata": {},
   "outputs": [],
   "source": [
    "# Splitting folds\n",
    "trn_objs = fold_split[fold][split]['training']\n",
    "val_objs = fold_split[fold][split]['validation']\n",
    "\n",
    "train_data = pd.concat({i: pd.read_csv(\n",
    "                    os.path.join(TRN_FEAT_DIR,\n",
    "                                'features_fold{0:02d}.csv'.format(i)))\n",
    "                for i in range(1, 10) if i in trn_objs\n",
    "            }, axis=0).reset_index(drop=True)\n"
   ]
  },
  {
   "cell_type": "code",
   "execution_count": 8,
   "metadata": {},
   "outputs": [],
   "source": [
    "val_data = pd.concat({i: pd.read_csv(\n",
    "                    os.path.join(TRN_FEAT_DIR,\n",
    "                                'features_fold{0:02d}.csv'.format(i)))\n",
    "                for i in range(1, 10) if i in val_objs\n",
    "            }, axis=0).reset_index(drop=True)"
   ]
  },
  {
   "cell_type": "code",
   "execution_count": 10,
   "metadata": {},
   "outputs": [],
   "source": [
    "X_train = train_data.iloc[:, :512]\n",
    "y_train = train_data['y']"
   ]
  },
  {
   "cell_type": "code",
   "execution_count": 16,
   "metadata": {},
   "outputs": [
    {
     "data": {
      "text/html": [
       "<style>#sk-container-id-2 {color: black;background-color: white;}#sk-container-id-2 pre{padding: 0;}#sk-container-id-2 div.sk-toggleable {background-color: white;}#sk-container-id-2 label.sk-toggleable__label {cursor: pointer;display: block;width: 100%;margin-bottom: 0;padding: 0.3em;box-sizing: border-box;text-align: center;}#sk-container-id-2 label.sk-toggleable__label-arrow:before {content: \"▸\";float: left;margin-right: 0.25em;color: #696969;}#sk-container-id-2 label.sk-toggleable__label-arrow:hover:before {color: black;}#sk-container-id-2 div.sk-estimator:hover label.sk-toggleable__label-arrow:before {color: black;}#sk-container-id-2 div.sk-toggleable__content {max-height: 0;max-width: 0;overflow: hidden;text-align: left;background-color: #f0f8ff;}#sk-container-id-2 div.sk-toggleable__content pre {margin: 0.2em;color: black;border-radius: 0.25em;background-color: #f0f8ff;}#sk-container-id-2 input.sk-toggleable__control:checked~div.sk-toggleable__content {max-height: 200px;max-width: 100%;overflow: auto;}#sk-container-id-2 input.sk-toggleable__control:checked~label.sk-toggleable__label-arrow:before {content: \"▾\";}#sk-container-id-2 div.sk-estimator input.sk-toggleable__control:checked~label.sk-toggleable__label {background-color: #d4ebff;}#sk-container-id-2 div.sk-label input.sk-toggleable__control:checked~label.sk-toggleable__label {background-color: #d4ebff;}#sk-container-id-2 input.sk-hidden--visually {border: 0;clip: rect(1px 1px 1px 1px);clip: rect(1px, 1px, 1px, 1px);height: 1px;margin: -1px;overflow: hidden;padding: 0;position: absolute;width: 1px;}#sk-container-id-2 div.sk-estimator {font-family: monospace;background-color: #f0f8ff;border: 1px dotted black;border-radius: 0.25em;box-sizing: border-box;margin-bottom: 0.5em;}#sk-container-id-2 div.sk-estimator:hover {background-color: #d4ebff;}#sk-container-id-2 div.sk-parallel-item::after {content: \"\";width: 100%;border-bottom: 1px solid gray;flex-grow: 1;}#sk-container-id-2 div.sk-label:hover label.sk-toggleable__label {background-color: #d4ebff;}#sk-container-id-2 div.sk-serial::before {content: \"\";position: absolute;border-left: 1px solid gray;box-sizing: border-box;top: 0;bottom: 0;left: 50%;z-index: 0;}#sk-container-id-2 div.sk-serial {display: flex;flex-direction: column;align-items: center;background-color: white;padding-right: 0.2em;padding-left: 0.2em;position: relative;}#sk-container-id-2 div.sk-item {position: relative;z-index: 1;}#sk-container-id-2 div.sk-parallel {display: flex;align-items: stretch;justify-content: center;background-color: white;position: relative;}#sk-container-id-2 div.sk-item::before, #sk-container-id-2 div.sk-parallel-item::before {content: \"\";position: absolute;border-left: 1px solid gray;box-sizing: border-box;top: 0;bottom: 0;left: 50%;z-index: -1;}#sk-container-id-2 div.sk-parallel-item {display: flex;flex-direction: column;z-index: 1;position: relative;background-color: white;}#sk-container-id-2 div.sk-parallel-item:first-child::after {align-self: flex-end;width: 50%;}#sk-container-id-2 div.sk-parallel-item:last-child::after {align-self: flex-start;width: 50%;}#sk-container-id-2 div.sk-parallel-item:only-child::after {width: 0;}#sk-container-id-2 div.sk-dashed-wrapped {border: 1px dashed gray;margin: 0 0.4em 0.5em 0.4em;box-sizing: border-box;padding-bottom: 0.4em;background-color: white;}#sk-container-id-2 div.sk-label label {font-family: monospace;font-weight: bold;display: inline-block;line-height: 1.2em;}#sk-container-id-2 div.sk-label-container {text-align: center;}#sk-container-id-2 div.sk-container {/* jupyter's `normalize.less` sets `[hidden] { display: none; }` but bootstrap.min.css set `[hidden] { display: none !important; }` so we also need the `!important` here to be able to override the default hidden behavior on the sphinx rendered scikit-learn.org. See: https://github.com/scikit-learn/scikit-learn/issues/21755 */display: inline-block !important;position: relative;}#sk-container-id-2 div.sk-text-repr-fallback {display: none;}</style><div id=\"sk-container-id-2\" class=\"sk-top-container\"><div class=\"sk-text-repr-fallback\"><pre>RandomForestClassifier(max_depth=150, n_estimators=150, n_jobs=-1,\n",
       "                       oob_score=True, random_state=71)</pre><b>In a Jupyter environment, please rerun this cell to show the HTML representation or trust the notebook. <br />On GitHub, the HTML representation is unable to render, please try loading this page with nbviewer.org.</b></div><div class=\"sk-container\" hidden><div class=\"sk-item\"><div class=\"sk-estimator sk-toggleable\"><input class=\"sk-toggleable__control sk-hidden--visually\" id=\"sk-estimator-id-2\" type=\"checkbox\" checked><label for=\"sk-estimator-id-2\" class=\"sk-toggleable__label sk-toggleable__label-arrow\">RandomForestClassifier</label><div class=\"sk-toggleable__content\"><pre>RandomForestClassifier(max_depth=150, n_estimators=150, n_jobs=-1,\n",
       "                       oob_score=True, random_state=71)</pre></div></div></div></div></div>"
      ],
      "text/plain": [
       "RandomForestClassifier(max_depth=150, n_estimators=150, n_jobs=-1,\n",
       "                       oob_score=True, random_state=71)"
      ]
     },
     "execution_count": 16,
     "metadata": {},
     "output_type": "execute_result"
    }
   ],
   "source": [
    "rnd_clf = RandomForestClassifier(n_estimators=150,\n",
    "                                 max_depth=150,\n",
    "                                 random_state=71,\n",
    "                                 n_jobs=-1,\n",
    "                                 oob_score=True)\n",
    "rnd_clf.fit(X_train, y_train)"
   ]
  },
  {
   "cell_type": "code",
   "execution_count": null,
   "metadata": {},
   "outputs": [],
   "source": []
  },
  {
   "cell_type": "code",
   "execution_count": 20,
   "metadata": {},
   "outputs": [
    {
     "name": "stdout",
     "output_type": "stream",
     "text": [
      "0.09116040724063973 0.8757269090344999\n",
      "0.1283304618503325 0.8441780605382391\n",
      "0.32574002167695737 0.617477845210631\n",
      "0.0966692465910253 0.872603652413314\n",
      "0.14809798423748413 0.79083891425181\n",
      "0.22089539771236114 0.7236824017270896\n",
      "0.0813376432542356 0.8885759674073364\n",
      "0.30639533084905785 0.6234496750417454\n"
     ]
    }
   ],
   "source": [
    "for num_split in range(1,9):\n",
    "\n",
    "    # Splitting folds\n",
    "    train_feat = pd.concat([feat[k] for k in fold_split[num_fold][num_split]['training']], axis=0).reset_index(drop=True)\n",
    "    val_feat   = pd.concat([feat[k] for k in fold_split[num_fold][num_split]['validation']], axis=0).reset_index(drop=True)\n",
    "\n",
    "    X_train = train_feat.iloc[:,:512]\n",
    "    y_train = train_feat.loc[:,'y']\n",
    "    X_val   = val_feat.iloc[:,:512]\n",
    "    y_val   = val_feat.loc[:,'y']\n",
    "\n",
    "    p_val   = val_feat.loc[:,'pixel'].values.astype(int)\n",
    "\n",
    "    # Random forest classifier\n",
    "    rnd_clf =  RandomForestClassifier(n_estimators = 150, max_depth = 100, random_state = 123, n_jobs=-1, oob_score=True)\n",
    "    rnd_clf.fit(X_train, y_train)\n",
    "    pred  = rnd_clf.predict_proba(X_val)[:,1]\n",
    "\n",
    "    y_pred = (pred > .3).astype(int)\n",
    "\n",
    "    # Metrics\n",
    "    tn, fp, fn, tp =  metrics.confusion_matrix(y_val.values, y_pred).ravel()\n",
    "\n",
    "    dis = DIS(tn, fp, fn, tp)\n",
    "    mcc = MCC(tn, fp, fn, tp)\n",
    "    print(dis,mcc)"
   ]
  },
  {
   "cell_type": "code",
   "execution_count": 25,
   "metadata": {},
   "outputs": [
    {
     "ename": "KeyError",
     "evalue": "1",
     "output_type": "error",
     "traceback": [
      "\u001b[0;31m---------------------------------------------------------------------------\u001b[0m",
      "\u001b[0;31mKeyError\u001b[0m                                  Traceback (most recent call last)",
      "\u001b[0;32m<ipython-input-25-b13c689ee748>\u001b[0m in \u001b[0;36m<module>\u001b[0;34m\u001b[0m\n\u001b[0;32m----> 1\u001b[0;31m \u001b[0mfeat\u001b[0m\u001b[0;34m[\u001b[0m\u001b[0;36m1\u001b[0m\u001b[0;34m]\u001b[0m\u001b[0;34m.\u001b[0m\u001b[0mcolumns\u001b[0m\u001b[0;34m\u001b[0m\u001b[0;34m\u001b[0m\u001b[0m\n\u001b[0m",
      "\u001b[0;31mKeyError\u001b[0m: 1"
     ]
    }
   ],
   "source": [
    "feat[1].columns"
   ]
  },
  {
   "cell_type": "code",
   "execution_count": 27,
   "metadata": {},
   "outputs": [
    {
     "data": {
      "text/plain": [
       "<matplotlib.image.AxesImage at 0x7f30f442e700>"
      ]
     },
     "execution_count": 27,
     "metadata": {},
     "output_type": "execute_result"
    },
    {
     "data": {
      "image/png": "[encoded data removed]",
      "text/plain": [
       "<Figure size 432x288 with 1 Axes>"
      ]
     },
     "metadata": {
      "needs_background": "light"
     },
     "output_type": "display_data"
    }
   ],
   "source": [
    "import matplotlib.pyplot as plt\n",
    "z = np.zeros((14400,1))\n",
    "z[p_val[:144],0] = (2*y_pred[:144])-1\n",
    "\n",
    "plt.imshow(z.reshape((90,160)))"
   ]
  },
  {
   "cell_type": "code",
   "execution_count": 282,
   "metadata": {},
   "outputs": [
    {
     "data": {
      "text/plain": [
       "1702.7847222222222"
      ]
     },
     "execution_count": 282,
     "metadata": {},
     "output_type": "execute_result"
    }
   ],
   "source": [
    "y_pred.shape[0]/144"
   ]
  },
  {
   "cell_type": "code",
   "execution_count": 296,
   "metadata": {},
   "outputs": [
    {
     "data": {
      "text/plain": [
       "[<matplotlib.lines.Line2D at 0x7f3f2396d2d0>]"
      ]
     },
     "execution_count": 296,
     "metadata": {},
     "output_type": "execute_result"
    },
    {
     "data": {
      "image/png": "[encoded data removed]",
      "text/plain": [
       "<Figure size 432x288 with 1 Axes>"
      ]
     },
     "metadata": {},
     "output_type": "display_data"
    }
   ],
   "source": [
    "res_dis = []\n",
    "res_mcc = []\n",
    "\n",
    "for i in range(101):\n",
    "    y_pred = (pred > i/100).astype(int)\n",
    "\n",
    "    # Metrics\n",
    "    tn, fp, fn, tp =  metrics.confusion_matrix(y_val.values, y_pred).ravel()\n",
    "\n",
    "    dis = DIS(tn, fp, fn, tp)\n",
    "    mcc = MCC(tn, fp, fn, tp)\n",
    "    res_dis.append(dis)\n",
    "    res_mcc.append(mcc)\n",
    "\n",
    "#plt.plot(res_dis)\n",
    "plt.plot(res_dis)"
   ]
  },
  {
   "cell_type": "code",
   "execution_count": 269,
   "metadata": {},
   "outputs": [],
   "source": [
    "#for i in range(9):\n",
    "#    t = pd.read_csv('/home/luiz.tavares/proc/features_vdao/validation_feat_fold{0:02d}.csv'.format(i)) \n",
    "#    print(t['object'].unique())"
   ]
  },
  {
   "cell_type": "code",
   "execution_count": 17,
   "metadata": {},
   "outputs": [],
   "source": [
    "# Training with OMP\n",
    "from sklearn.linear_model import OrthogonalMatchingPursuit\n",
    "\n",
    "reg  = OrthogonalMatchingPursuit().fit(X_train ,y_train)\n",
    "pred   = X_val @ reg.coef_\n",
    "y_pred = (pred > 0).astype(int)\n"
   ]
  },
  {
   "cell_type": "code",
   "execution_count": 18,
   "metadata": {},
   "outputs": [
    {
     "name": "stdout",
     "output_type": "stream",
     "text": [
      "0.7014001093325838 0.2723940391831474\n"
     ]
    }
   ],
   "source": [
    "tn, fp, fn, tp =  metrics.confusion_matrix(y_val.values, y_pred).ravel()\n",
    "dis = DIS(tn, fp, fn, tp)\n",
    "mcc = MCC(tn, fp, fn, tp)\n",
    "\n",
    "print(dis, mcc)"
   ]
  },
  {
   "cell_type": "code",
   "execution_count": 8,
   "metadata": {},
   "outputs": [],
   "source": [
    "# Teste com outra RF\n",
    "num_split=1\n",
    "\n",
    "# Splitting fol\n",
    "train_feat = pd.concat([feat[k] for k in fold_split[num_fold][num_split]['training']], axis=0).reset_index(drop=True)\n",
    "val_feat   = pd.concat([feat[k] for k in fold_split[num_fold][num_split]['validation']], axis=0).reset_index(drop=True)\n",
    "\n",
    "X_train = train_feat.iloc[:,:512]\n",
    "y_train = train_feat.loc[:,'y']\n",
    "X_val   = val_feat.iloc[:,:512]\n",
    "y_val   = val_feat.loc[:,'y']\n",
    "    \n",
    "    \n"
   ]
  },
  {
   "cell_type": "code",
   "execution_count": 10,
   "metadata": {},
   "outputs": [
    {
     "name": "stdout",
     "output_type": "stream",
     "text": [
      "0.9997227477994013 0.0002446619436223601\n"
     ]
    }
   ],
   "source": [
    "import pickle\n",
    "import sklearn\n",
    "\n",
    "with open('/home/luiz.tavares/Workspace/backup_VDAO/results/opt_RF/MCC/mod_mcc/trees/validationRF_fold00_split00.pkl', 'rb') as f:\n",
    "    rf = pickle.load(f)\n",
    "    \n",
    "pred  = rf.predict_proba(X_val)[:,1]\n",
    "y_pred = (pred > .3).astype(int)\n",
    "\n",
    "# Metrics\n",
    "tn, fp, fn, tp =  metrics.confusion_matrix(y_val.values, y_pred).ravel()\n",
    "\n",
    "dis = DIS(tn, fp, fn, tp)\n",
    "mcc = MCC(tn, fp, fn, tp)\n",
    "print(dis,mcc)"
   ]
  },
  {
   "cell_type": "code",
   "execution_count": null,
   "metadata": {},
   "outputs": [],
   "source": []
  }
 ],
 "metadata": {
  "kernelspec": {
   "display_name": "pixel-venv",
   "language": "python",
   "name": "pixel-venv"
  },
  "language_info": {
   "codemirror_mode": {
    "name": "ipython",
    "version": 3
   },
   "file_extension": ".py",
   "mimetype": "text/x-python",
   "name": "python",
   "nbconvert_exporter": "python",
   "pygments_lexer": "ipython3",
   "version": "3.10.6"
  }
 },
 "nbformat": 4,
 "nbformat_minor": 4
}
